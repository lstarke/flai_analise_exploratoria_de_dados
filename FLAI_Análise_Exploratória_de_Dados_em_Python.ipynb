{
  "nbformat": 4,
  "nbformat_minor": 0,
  "metadata": {
    "colab": {
      "name": "FLAI - Análise Exploratória de Dados em Python.ipynb",
      "provenance": [],
      "authorship_tag": "ABX9TyMQ0wV6wjFMvIft478yVaB9",
      "include_colab_link": true
    },
    "kernelspec": {
      "name": "python3",
      "display_name": "Python 3"
    }
  },
  "cells": [
    {
      "cell_type": "markdown",
      "metadata": {
        "id": "view-in-github",
        "colab_type": "text"
      },
      "source": [
        "<a href=\"https://colab.research.google.com/github/lstarke/flai_analise_exploratoria_de_dados/blob/main/FLAI_An%C3%A1lise_Explorat%C3%B3ria_de_Dados_em_Python.ipynb\" target=\"_parent\"><img src=\"https://colab.research.google.com/assets/colab-badge.svg\" alt=\"Open In Colab\"/></a>"
      ]
    },
    {
      "cell_type": "code",
      "metadata": {
        "colab": {
          "base_uri": "https://localhost:8080/"
        },
        "id": "2RKORcrfdTOs",
        "outputId": "5d150955-1e52-479e-94ea-502a750b67b8"
      },
      "source": [
        "# Dicionários\r\n",
        "\r\n",
        "dicionario = {'nome': 'Leandro', \r\n",
        "              'idade': 37, \r\n",
        "              'comida_favorita':'hamburgues'}\r\n",
        "\r\n",
        "dicionario"
      ],
      "execution_count": 97,
      "outputs": [
        {
          "output_type": "execute_result",
          "data": {
            "text/plain": [
              "{'comida_favorita': 'hamburgues', 'idade': 37, 'nome': 'Leandro'}"
            ]
          },
          "metadata": {
            "tags": []
          },
          "execution_count": 97
        }
      ]
    },
    {
      "cell_type": "code",
      "metadata": {
        "colab": {
          "base_uri": "https://localhost:8080/",
          "height": 35
        },
        "id": "6edndehqd1E1",
        "outputId": "768163fc-de3a-406c-ebb2-8ae12ab83b0b"
      },
      "source": [
        "dicionario['nome']"
      ],
      "execution_count": 98,
      "outputs": [
        {
          "output_type": "execute_result",
          "data": {
            "application/vnd.google.colaboratory.intrinsic+json": {
              "type": "string"
            },
            "text/plain": [
              "'Leandro'"
            ]
          },
          "metadata": {
            "tags": []
          },
          "execution_count": 98
        }
      ]
    },
    {
      "cell_type": "code",
      "metadata": {
        "colab": {
          "base_uri": "https://localhost:8080/"
        },
        "id": "OXGiin-OeAC-",
        "outputId": "22967504-14f1-4917-b72d-9b3657203f18"
      },
      "source": [
        "dicionario.items()"
      ],
      "execution_count": 99,
      "outputs": [
        {
          "output_type": "execute_result",
          "data": {
            "text/plain": [
              "dict_items([('nome', 'Leandro'), ('idade', 37), ('comida_favorita', 'hamburgues')])"
            ]
          },
          "metadata": {
            "tags": []
          },
          "execution_count": 99
        }
      ]
    },
    {
      "cell_type": "code",
      "metadata": {
        "colab": {
          "base_uri": "https://localhost:8080/"
        },
        "id": "kGMrE4FLeENW",
        "outputId": "fd38e109-1ea7-4c01-94ab-bc2d086093ec"
      },
      "source": [
        "dicionario.keys()"
      ],
      "execution_count": 100,
      "outputs": [
        {
          "output_type": "execute_result",
          "data": {
            "text/plain": [
              "dict_keys(['nome', 'idade', 'comida_favorita'])"
            ]
          },
          "metadata": {
            "tags": []
          },
          "execution_count": 100
        }
      ]
    },
    {
      "cell_type": "code",
      "metadata": {
        "colab": {
          "base_uri": "https://localhost:8080/"
        },
        "id": "T5fG7F7teG9e",
        "outputId": "93e115fe-31ea-4230-c5e2-6858654d356d"
      },
      "source": [
        "dicionario.values()"
      ],
      "execution_count": 101,
      "outputs": [
        {
          "output_type": "execute_result",
          "data": {
            "text/plain": [
              "dict_values(['Leandro', 37, 'hamburgues'])"
            ]
          },
          "metadata": {
            "tags": []
          },
          "execution_count": 101
        }
      ]
    },
    {
      "cell_type": "code",
      "metadata": {
        "id": "BW8r7iwxeJAG"
      },
      "source": [
        "parametros = {'loc': 0,  'scale': 1, 'size': 10}"
      ],
      "execution_count": 102,
      "outputs": []
    },
    {
      "cell_type": "code",
      "metadata": {
        "id": "QZvmNWP_eYxu"
      },
      "source": [
        "import numpy as np"
      ],
      "execution_count": 103,
      "outputs": []
    },
    {
      "cell_type": "code",
      "metadata": {
        "colab": {
          "base_uri": "https://localhost:8080/"
        },
        "id": "sD42vGmkecfr",
        "outputId": "80731c82-bb7b-435f-8c38-acebbb7c3699"
      },
      "source": [
        "np.random.normal(**parametros) # ** usa dicionário"
      ],
      "execution_count": 104,
      "outputs": [
        {
          "output_type": "execute_result",
          "data": {
            "text/plain": [
              "array([ 1.56707439, -3.08407414, -1.21939787, -0.38188816, -1.26690058,\n",
              "        0.5667594 ,  1.18010891,  0.54395066,  0.8601269 ,  0.11996497])"
            ]
          },
          "metadata": {
            "tags": []
          },
          "execution_count": 104
        }
      ]
    },
    {
      "cell_type": "code",
      "metadata": {
        "colab": {
          "base_uri": "https://localhost:8080/"
        },
        "id": "6eTIMQlSemSz",
        "outputId": "6e7a39d4-2ec0-4000-d400-8328d00448ce"
      },
      "source": [
        "np.random.normal(*[0, 1, 10]) # * usa lista"
      ],
      "execution_count": 105,
      "outputs": [
        {
          "output_type": "execute_result",
          "data": {
            "text/plain": [
              "array([ 0.59134375, -0.30636125,  0.06228405,  0.82059864, -0.43954797,\n",
              "       -1.67011243,  0.33097249, -0.31943299, -0.8795651 , -0.91038801])"
            ]
          },
          "metadata": {
            "tags": []
          },
          "execution_count": 105
        }
      ]
    },
    {
      "cell_type": "markdown",
      "metadata": {
        "id": "vPtdFX1mfXp6"
      },
      "source": [
        "---"
      ]
    },
    {
      "cell_type": "code",
      "metadata": {
        "id": "QVKFeSewe5Kz"
      },
      "source": [
        "# Pandas\r\n",
        "# Dataframe\r\n",
        "# Series\r\n",
        "\r\n",
        "import pandas as pd"
      ],
      "execution_count": 106,
      "outputs": []
    },
    {
      "cell_type": "code",
      "metadata": {
        "colab": {
          "base_uri": "https://localhost:8080/"
        },
        "id": "cXNDC0Uafy6R",
        "outputId": "e760510d-c8b6-449a-ec10-4985f1854e7d"
      },
      "source": [
        "notas = np.random.uniform(low=0, high=10, size=30).round(1).reshape(10,3)\r\n",
        "notas"
      ],
      "execution_count": 107,
      "outputs": [
        {
          "output_type": "execute_result",
          "data": {
            "text/plain": [
              "array([[ 2. ,  8.1,  4.5],\n",
              "       [ 5.1,  2.3,  6.3],\n",
              "       [ 7.3,  0.5,  0.5],\n",
              "       [ 1.5,  2.7,  2.1],\n",
              "       [10. ,  3.4,  9.1],\n",
              "       [ 8.7,  2.6,  7.3],\n",
              "       [ 0.2,  8.6,  4.5],\n",
              "       [ 4.6,  8.6,  0.6],\n",
              "       [ 8.8,  9. ,  1.1],\n",
              "       [ 8.6,  9.1,  0.1]])"
            ]
          },
          "metadata": {
            "tags": []
          },
          "execution_count": 107
        }
      ]
    },
    {
      "cell_type": "code",
      "metadata": {
        "id": "dcuLRABQgnb6"
      },
      "source": [
        "provas = ['P1', 'P2', 'P3']\r\n",
        "alunos = ['Alice', 'Bruno', 'Carla', 'David', 'Emily', 'Fábio', 'Gloria', 'Helio', 'Isabela', 'Lucas']"
      ],
      "execution_count": 108,
      "outputs": []
    },
    {
      "cell_type": "code",
      "metadata": {
        "id": "l5TJkRhNfR7v"
      },
      "source": [
        "notas_alunos = pd.DataFrame(data=notas, index=alunos , columns=provas)"
      ],
      "execution_count": 109,
      "outputs": []
    },
    {
      "cell_type": "code",
      "metadata": {
        "colab": {
          "base_uri": "https://localhost:8080/",
          "height": 204
        },
        "id": "JcOiW1KCjlmo",
        "outputId": "95d2bd4f-4540-4375-a3a0-68169479bf7b"
      },
      "source": [
        "notas_alunos.head()"
      ],
      "execution_count": 110,
      "outputs": [
        {
          "output_type": "execute_result",
          "data": {
            "text/html": [
              "<div>\n",
              "<style scoped>\n",
              "    .dataframe tbody tr th:only-of-type {\n",
              "        vertical-align: middle;\n",
              "    }\n",
              "\n",
              "    .dataframe tbody tr th {\n",
              "        vertical-align: top;\n",
              "    }\n",
              "\n",
              "    .dataframe thead th {\n",
              "        text-align: right;\n",
              "    }\n",
              "</style>\n",
              "<table border=\"1\" class=\"dataframe\">\n",
              "  <thead>\n",
              "    <tr style=\"text-align: right;\">\n",
              "      <th></th>\n",
              "      <th>P1</th>\n",
              "      <th>P2</th>\n",
              "      <th>P3</th>\n",
              "    </tr>\n",
              "  </thead>\n",
              "  <tbody>\n",
              "    <tr>\n",
              "      <th>Alice</th>\n",
              "      <td>2.0</td>\n",
              "      <td>8.1</td>\n",
              "      <td>4.5</td>\n",
              "    </tr>\n",
              "    <tr>\n",
              "      <th>Bruno</th>\n",
              "      <td>5.1</td>\n",
              "      <td>2.3</td>\n",
              "      <td>6.3</td>\n",
              "    </tr>\n",
              "    <tr>\n",
              "      <th>Carla</th>\n",
              "      <td>7.3</td>\n",
              "      <td>0.5</td>\n",
              "      <td>0.5</td>\n",
              "    </tr>\n",
              "    <tr>\n",
              "      <th>David</th>\n",
              "      <td>1.5</td>\n",
              "      <td>2.7</td>\n",
              "      <td>2.1</td>\n",
              "    </tr>\n",
              "    <tr>\n",
              "      <th>Emily</th>\n",
              "      <td>10.0</td>\n",
              "      <td>3.4</td>\n",
              "      <td>9.1</td>\n",
              "    </tr>\n",
              "  </tbody>\n",
              "</table>\n",
              "</div>"
            ],
            "text/plain": [
              "         P1   P2   P3\n",
              "Alice   2.0  8.1  4.5\n",
              "Bruno   5.1  2.3  6.3\n",
              "Carla   7.3  0.5  0.5\n",
              "David   1.5  2.7  2.1\n",
              "Emily  10.0  3.4  9.1"
            ]
          },
          "metadata": {
            "tags": []
          },
          "execution_count": 110
        }
      ]
    },
    {
      "cell_type": "code",
      "metadata": {
        "colab": {
          "base_uri": "https://localhost:8080/"
        },
        "id": "_yem8qEghN4Y",
        "outputId": "335cfcbf-6e88-434d-b191-e6445481f6f0"
      },
      "source": [
        "notas_alunos.info()"
      ],
      "execution_count": 111,
      "outputs": [
        {
          "output_type": "stream",
          "text": [
            "<class 'pandas.core.frame.DataFrame'>\n",
            "Index: 10 entries, Alice to Lucas\n",
            "Data columns (total 3 columns):\n",
            " #   Column  Non-Null Count  Dtype  \n",
            "---  ------  --------------  -----  \n",
            " 0   P1      10 non-null     float64\n",
            " 1   P2      10 non-null     float64\n",
            " 2   P3      10 non-null     float64\n",
            "dtypes: float64(3)\n",
            "memory usage: 320.0+ bytes\n"
          ],
          "name": "stdout"
        }
      ]
    },
    {
      "cell_type": "code",
      "metadata": {
        "colab": {
          "base_uri": "https://localhost:8080/",
          "height": 297
        },
        "id": "B-vP_rEIhhx4",
        "outputId": "c442744a-ed4b-43ee-a258-dedf98934a65"
      },
      "source": [
        "notas_alunos.describe()"
      ],
      "execution_count": 112,
      "outputs": [
        {
          "output_type": "execute_result",
          "data": {
            "text/html": [
              "<div>\n",
              "<style scoped>\n",
              "    .dataframe tbody tr th:only-of-type {\n",
              "        vertical-align: middle;\n",
              "    }\n",
              "\n",
              "    .dataframe tbody tr th {\n",
              "        vertical-align: top;\n",
              "    }\n",
              "\n",
              "    .dataframe thead th {\n",
              "        text-align: right;\n",
              "    }\n",
              "</style>\n",
              "<table border=\"1\" class=\"dataframe\">\n",
              "  <thead>\n",
              "    <tr style=\"text-align: right;\">\n",
              "      <th></th>\n",
              "      <th>P1</th>\n",
              "      <th>P2</th>\n",
              "      <th>P3</th>\n",
              "    </tr>\n",
              "  </thead>\n",
              "  <tbody>\n",
              "    <tr>\n",
              "      <th>count</th>\n",
              "      <td>10.0000</td>\n",
              "      <td>10.000000</td>\n",
              "      <td>10.000000</td>\n",
              "    </tr>\n",
              "    <tr>\n",
              "      <th>mean</th>\n",
              "      <td>5.6800</td>\n",
              "      <td>5.490000</td>\n",
              "      <td>3.610000</td>\n",
              "    </tr>\n",
              "    <tr>\n",
              "      <th>std</th>\n",
              "      <td>3.5153</td>\n",
              "      <td>3.449461</td>\n",
              "      <td>3.200851</td>\n",
              "    </tr>\n",
              "    <tr>\n",
              "      <th>min</th>\n",
              "      <td>0.2000</td>\n",
              "      <td>0.500000</td>\n",
              "      <td>0.100000</td>\n",
              "    </tr>\n",
              "    <tr>\n",
              "      <th>25%</th>\n",
              "      <td>2.6500</td>\n",
              "      <td>2.625000</td>\n",
              "      <td>0.725000</td>\n",
              "    </tr>\n",
              "    <tr>\n",
              "      <th>50%</th>\n",
              "      <td>6.2000</td>\n",
              "      <td>5.750000</td>\n",
              "      <td>3.300000</td>\n",
              "    </tr>\n",
              "    <tr>\n",
              "      <th>75%</th>\n",
              "      <td>8.6750</td>\n",
              "      <td>8.600000</td>\n",
              "      <td>5.850000</td>\n",
              "    </tr>\n",
              "    <tr>\n",
              "      <th>max</th>\n",
              "      <td>10.0000</td>\n",
              "      <td>9.100000</td>\n",
              "      <td>9.100000</td>\n",
              "    </tr>\n",
              "  </tbody>\n",
              "</table>\n",
              "</div>"
            ],
            "text/plain": [
              "            P1         P2         P3\n",
              "count  10.0000  10.000000  10.000000\n",
              "mean    5.6800   5.490000   3.610000\n",
              "std     3.5153   3.449461   3.200851\n",
              "min     0.2000   0.500000   0.100000\n",
              "25%     2.6500   2.625000   0.725000\n",
              "50%     6.2000   5.750000   3.300000\n",
              "75%     8.6750   8.600000   5.850000\n",
              "max    10.0000   9.100000   9.100000"
            ]
          },
          "metadata": {
            "tags": []
          },
          "execution_count": 112
        }
      ]
    },
    {
      "cell_type": "code",
      "metadata": {
        "colab": {
          "base_uri": "https://localhost:8080/",
          "height": 142
        },
        "id": "NfrIKZQIhhvm",
        "outputId": "27d3689a-70f1-4359-c9e6-e9c53d780722"
      },
      "source": [
        "notas_alunos.transpose()"
      ],
      "execution_count": 113,
      "outputs": [
        {
          "output_type": "execute_result",
          "data": {
            "text/html": [
              "<div>\n",
              "<style scoped>\n",
              "    .dataframe tbody tr th:only-of-type {\n",
              "        vertical-align: middle;\n",
              "    }\n",
              "\n",
              "    .dataframe tbody tr th {\n",
              "        vertical-align: top;\n",
              "    }\n",
              "\n",
              "    .dataframe thead th {\n",
              "        text-align: right;\n",
              "    }\n",
              "</style>\n",
              "<table border=\"1\" class=\"dataframe\">\n",
              "  <thead>\n",
              "    <tr style=\"text-align: right;\">\n",
              "      <th></th>\n",
              "      <th>Alice</th>\n",
              "      <th>Bruno</th>\n",
              "      <th>Carla</th>\n",
              "      <th>David</th>\n",
              "      <th>Emily</th>\n",
              "      <th>Fábio</th>\n",
              "      <th>Gloria</th>\n",
              "      <th>Helio</th>\n",
              "      <th>Isabela</th>\n",
              "      <th>Lucas</th>\n",
              "    </tr>\n",
              "  </thead>\n",
              "  <tbody>\n",
              "    <tr>\n",
              "      <th>P1</th>\n",
              "      <td>2.0</td>\n",
              "      <td>5.1</td>\n",
              "      <td>7.3</td>\n",
              "      <td>1.5</td>\n",
              "      <td>10.0</td>\n",
              "      <td>8.7</td>\n",
              "      <td>0.2</td>\n",
              "      <td>4.6</td>\n",
              "      <td>8.8</td>\n",
              "      <td>8.6</td>\n",
              "    </tr>\n",
              "    <tr>\n",
              "      <th>P2</th>\n",
              "      <td>8.1</td>\n",
              "      <td>2.3</td>\n",
              "      <td>0.5</td>\n",
              "      <td>2.7</td>\n",
              "      <td>3.4</td>\n",
              "      <td>2.6</td>\n",
              "      <td>8.6</td>\n",
              "      <td>8.6</td>\n",
              "      <td>9.0</td>\n",
              "      <td>9.1</td>\n",
              "    </tr>\n",
              "    <tr>\n",
              "      <th>P3</th>\n",
              "      <td>4.5</td>\n",
              "      <td>6.3</td>\n",
              "      <td>0.5</td>\n",
              "      <td>2.1</td>\n",
              "      <td>9.1</td>\n",
              "      <td>7.3</td>\n",
              "      <td>4.5</td>\n",
              "      <td>0.6</td>\n",
              "      <td>1.1</td>\n",
              "      <td>0.1</td>\n",
              "    </tr>\n",
              "  </tbody>\n",
              "</table>\n",
              "</div>"
            ],
            "text/plain": [
              "    Alice  Bruno  Carla  David  Emily  Fábio  Gloria  Helio  Isabela  Lucas\n",
              "P1    2.0    5.1    7.3    1.5   10.0    8.7     0.2    4.6      8.8    8.6\n",
              "P2    8.1    2.3    0.5    2.7    3.4    2.6     8.6    8.6      9.0    9.1\n",
              "P3    4.5    6.3    0.5    2.1    9.1    7.3     4.5    0.6      1.1    0.1"
            ]
          },
          "metadata": {
            "tags": []
          },
          "execution_count": 113
        }
      ]
    },
    {
      "cell_type": "code",
      "metadata": {
        "colab": {
          "base_uri": "https://localhost:8080/",
          "height": 297
        },
        "id": "Tc3QEVYihhtK",
        "outputId": "f0e6788f-abd5-42b4-80d7-9c9432b451a8"
      },
      "source": [
        "notas_alunos.transpose().describe()"
      ],
      "execution_count": 114,
      "outputs": [
        {
          "output_type": "execute_result",
          "data": {
            "text/html": [
              "<div>\n",
              "<style scoped>\n",
              "    .dataframe tbody tr th:only-of-type {\n",
              "        vertical-align: middle;\n",
              "    }\n",
              "\n",
              "    .dataframe tbody tr th {\n",
              "        vertical-align: top;\n",
              "    }\n",
              "\n",
              "    .dataframe thead th {\n",
              "        text-align: right;\n",
              "    }\n",
              "</style>\n",
              "<table border=\"1\" class=\"dataframe\">\n",
              "  <thead>\n",
              "    <tr style=\"text-align: right;\">\n",
              "      <th></th>\n",
              "      <th>Alice</th>\n",
              "      <th>Bruno</th>\n",
              "      <th>Carla</th>\n",
              "      <th>David</th>\n",
              "      <th>Emily</th>\n",
              "      <th>Fábio</th>\n",
              "      <th>Gloria</th>\n",
              "      <th>Helio</th>\n",
              "      <th>Isabela</th>\n",
              "      <th>Lucas</th>\n",
              "    </tr>\n",
              "  </thead>\n",
              "  <tbody>\n",
              "    <tr>\n",
              "      <th>count</th>\n",
              "      <td>3.000000</td>\n",
              "      <td>3.000000</td>\n",
              "      <td>3.000000</td>\n",
              "      <td>3.0</td>\n",
              "      <td>3.000000</td>\n",
              "      <td>3.000000</td>\n",
              "      <td>3.000000</td>\n",
              "      <td>3.0</td>\n",
              "      <td>3.000000</td>\n",
              "      <td>3.000000</td>\n",
              "    </tr>\n",
              "    <tr>\n",
              "      <th>mean</th>\n",
              "      <td>4.866667</td>\n",
              "      <td>4.566667</td>\n",
              "      <td>2.766667</td>\n",
              "      <td>2.1</td>\n",
              "      <td>7.500000</td>\n",
              "      <td>6.200000</td>\n",
              "      <td>4.433333</td>\n",
              "      <td>4.6</td>\n",
              "      <td>6.300000</td>\n",
              "      <td>5.933333</td>\n",
              "    </tr>\n",
              "    <tr>\n",
              "      <th>std</th>\n",
              "      <td>3.066486</td>\n",
              "      <td>2.052641</td>\n",
              "      <td>3.925982</td>\n",
              "      <td>0.6</td>\n",
              "      <td>3.579106</td>\n",
              "      <td>3.195309</td>\n",
              "      <td>4.200397</td>\n",
              "      <td>4.0</td>\n",
              "      <td>4.504442</td>\n",
              "      <td>5.057997</td>\n",
              "    </tr>\n",
              "    <tr>\n",
              "      <th>min</th>\n",
              "      <td>2.000000</td>\n",
              "      <td>2.300000</td>\n",
              "      <td>0.500000</td>\n",
              "      <td>1.5</td>\n",
              "      <td>3.400000</td>\n",
              "      <td>2.600000</td>\n",
              "      <td>0.200000</td>\n",
              "      <td>0.6</td>\n",
              "      <td>1.100000</td>\n",
              "      <td>0.100000</td>\n",
              "    </tr>\n",
              "    <tr>\n",
              "      <th>25%</th>\n",
              "      <td>3.250000</td>\n",
              "      <td>3.700000</td>\n",
              "      <td>0.500000</td>\n",
              "      <td>1.8</td>\n",
              "      <td>6.250000</td>\n",
              "      <td>4.950000</td>\n",
              "      <td>2.350000</td>\n",
              "      <td>2.6</td>\n",
              "      <td>4.950000</td>\n",
              "      <td>4.350000</td>\n",
              "    </tr>\n",
              "    <tr>\n",
              "      <th>50%</th>\n",
              "      <td>4.500000</td>\n",
              "      <td>5.100000</td>\n",
              "      <td>0.500000</td>\n",
              "      <td>2.1</td>\n",
              "      <td>9.100000</td>\n",
              "      <td>7.300000</td>\n",
              "      <td>4.500000</td>\n",
              "      <td>4.6</td>\n",
              "      <td>8.800000</td>\n",
              "      <td>8.600000</td>\n",
              "    </tr>\n",
              "    <tr>\n",
              "      <th>75%</th>\n",
              "      <td>6.300000</td>\n",
              "      <td>5.700000</td>\n",
              "      <td>3.900000</td>\n",
              "      <td>2.4</td>\n",
              "      <td>9.550000</td>\n",
              "      <td>8.000000</td>\n",
              "      <td>6.550000</td>\n",
              "      <td>6.6</td>\n",
              "      <td>8.900000</td>\n",
              "      <td>8.850000</td>\n",
              "    </tr>\n",
              "    <tr>\n",
              "      <th>max</th>\n",
              "      <td>8.100000</td>\n",
              "      <td>6.300000</td>\n",
              "      <td>7.300000</td>\n",
              "      <td>2.7</td>\n",
              "      <td>10.000000</td>\n",
              "      <td>8.700000</td>\n",
              "      <td>8.600000</td>\n",
              "      <td>8.6</td>\n",
              "      <td>9.000000</td>\n",
              "      <td>9.100000</td>\n",
              "    </tr>\n",
              "  </tbody>\n",
              "</table>\n",
              "</div>"
            ],
            "text/plain": [
              "          Alice     Bruno     Carla  David  ...    Gloria  Helio   Isabela     Lucas\n",
              "count  3.000000  3.000000  3.000000    3.0  ...  3.000000    3.0  3.000000  3.000000\n",
              "mean   4.866667  4.566667  2.766667    2.1  ...  4.433333    4.6  6.300000  5.933333\n",
              "std    3.066486  2.052641  3.925982    0.6  ...  4.200397    4.0  4.504442  5.057997\n",
              "min    2.000000  2.300000  0.500000    1.5  ...  0.200000    0.6  1.100000  0.100000\n",
              "25%    3.250000  3.700000  0.500000    1.8  ...  2.350000    2.6  4.950000  4.350000\n",
              "50%    4.500000  5.100000  0.500000    2.1  ...  4.500000    4.6  8.800000  8.600000\n",
              "75%    6.300000  5.700000  3.900000    2.4  ...  6.550000    6.6  8.900000  8.850000\n",
              "max    8.100000  6.300000  7.300000    2.7  ...  8.600000    8.6  9.000000  9.100000\n",
              "\n",
              "[8 rows x 10 columns]"
            ]
          },
          "metadata": {
            "tags": []
          },
          "execution_count": 114
        }
      ]
    },
    {
      "cell_type": "code",
      "metadata": {
        "colab": {
          "base_uri": "https://localhost:8080/"
        },
        "id": "8X5HgMZ9hhq8",
        "outputId": "7c4b6402-0783-464d-b765-1323e67aed7d"
      },
      "source": [
        "notas_alunos.shape"
      ],
      "execution_count": 115,
      "outputs": [
        {
          "output_type": "execute_result",
          "data": {
            "text/plain": [
              "(10, 3)"
            ]
          },
          "metadata": {
            "tags": []
          },
          "execution_count": 115
        }
      ]
    },
    {
      "cell_type": "code",
      "metadata": {
        "colab": {
          "base_uri": "https://localhost:8080/"
        },
        "id": "ydCTXIe3hhoH",
        "outputId": "08c88e96-5670-4f89-f546-655cf1324817"
      },
      "source": [
        "notas_alunos['P1'] # quando é uma coluna do dataframe o tipo é Series"
      ],
      "execution_count": 116,
      "outputs": [
        {
          "output_type": "execute_result",
          "data": {
            "text/plain": [
              "Alice       2.0\n",
              "Bruno       5.1\n",
              "Carla       7.3\n",
              "David       1.5\n",
              "Emily      10.0\n",
              "Fábio       8.7\n",
              "Gloria      0.2\n",
              "Helio       4.6\n",
              "Isabela     8.8\n",
              "Lucas       8.6\n",
              "Name: P1, dtype: float64"
            ]
          },
          "metadata": {
            "tags": []
          },
          "execution_count": 116
        }
      ]
    },
    {
      "cell_type": "code",
      "metadata": {
        "colab": {
          "base_uri": "https://localhost:8080/"
        },
        "id": "80D8RVGehhl5",
        "outputId": "71efa0ac-9e75-4daf-d101-364e0f819ee4"
      },
      "source": [
        "notas_alunos.mean(axis=0) # axis = 0 é colunas"
      ],
      "execution_count": 117,
      "outputs": [
        {
          "output_type": "execute_result",
          "data": {
            "text/plain": [
              "P1    5.68\n",
              "P2    5.49\n",
              "P3    3.61\n",
              "dtype: float64"
            ]
          },
          "metadata": {
            "tags": []
          },
          "execution_count": 117
        }
      ]
    },
    {
      "cell_type": "code",
      "metadata": {
        "colab": {
          "base_uri": "https://localhost:8080/"
        },
        "id": "avbEocb1hhjQ",
        "outputId": "ade5b81a-4f63-4553-ee8c-15253ba9c399"
      },
      "source": [
        "notas_alunos.mean(axis=1) # axis = 1 é linhas"
      ],
      "execution_count": 118,
      "outputs": [
        {
          "output_type": "execute_result",
          "data": {
            "text/plain": [
              "Alice      4.866667\n",
              "Bruno      4.566667\n",
              "Carla      2.766667\n",
              "David      2.100000\n",
              "Emily      7.500000\n",
              "Fábio      6.200000\n",
              "Gloria     4.433333\n",
              "Helio      4.600000\n",
              "Isabela    6.300000\n",
              "Lucas      5.933333\n",
              "dtype: float64"
            ]
          },
          "metadata": {
            "tags": []
          },
          "execution_count": 118
        }
      ]
    },
    {
      "cell_type": "code",
      "metadata": {
        "colab": {
          "base_uri": "https://localhost:8080/",
          "height": 204
        },
        "id": "0CDtMExihhgz",
        "outputId": "ccd9298f-eab8-4351-d889-c435148d6799"
      },
      "source": [
        "# adiciona nova coluna ao dataframe\r\n",
        "# calcula a média de notas dos alunos\r\n",
        "notas_alunos['media_final'] = notas_alunos.mean(axis=1).round(1)\r\n",
        "notas_alunos.head()"
      ],
      "execution_count": 119,
      "outputs": [
        {
          "output_type": "execute_result",
          "data": {
            "text/html": [
              "<div>\n",
              "<style scoped>\n",
              "    .dataframe tbody tr th:only-of-type {\n",
              "        vertical-align: middle;\n",
              "    }\n",
              "\n",
              "    .dataframe tbody tr th {\n",
              "        vertical-align: top;\n",
              "    }\n",
              "\n",
              "    .dataframe thead th {\n",
              "        text-align: right;\n",
              "    }\n",
              "</style>\n",
              "<table border=\"1\" class=\"dataframe\">\n",
              "  <thead>\n",
              "    <tr style=\"text-align: right;\">\n",
              "      <th></th>\n",
              "      <th>P1</th>\n",
              "      <th>P2</th>\n",
              "      <th>P3</th>\n",
              "      <th>media_final</th>\n",
              "    </tr>\n",
              "  </thead>\n",
              "  <tbody>\n",
              "    <tr>\n",
              "      <th>Alice</th>\n",
              "      <td>2.0</td>\n",
              "      <td>8.1</td>\n",
              "      <td>4.5</td>\n",
              "      <td>4.9</td>\n",
              "    </tr>\n",
              "    <tr>\n",
              "      <th>Bruno</th>\n",
              "      <td>5.1</td>\n",
              "      <td>2.3</td>\n",
              "      <td>6.3</td>\n",
              "      <td>4.6</td>\n",
              "    </tr>\n",
              "    <tr>\n",
              "      <th>Carla</th>\n",
              "      <td>7.3</td>\n",
              "      <td>0.5</td>\n",
              "      <td>0.5</td>\n",
              "      <td>2.8</td>\n",
              "    </tr>\n",
              "    <tr>\n",
              "      <th>David</th>\n",
              "      <td>1.5</td>\n",
              "      <td>2.7</td>\n",
              "      <td>2.1</td>\n",
              "      <td>2.1</td>\n",
              "    </tr>\n",
              "    <tr>\n",
              "      <th>Emily</th>\n",
              "      <td>10.0</td>\n",
              "      <td>3.4</td>\n",
              "      <td>9.1</td>\n",
              "      <td>7.5</td>\n",
              "    </tr>\n",
              "  </tbody>\n",
              "</table>\n",
              "</div>"
            ],
            "text/plain": [
              "         P1   P2   P3  media_final\n",
              "Alice   2.0  8.1  4.5          4.9\n",
              "Bruno   5.1  2.3  6.3          4.6\n",
              "Carla   7.3  0.5  0.5          2.8\n",
              "David   1.5  2.7  2.1          2.1\n",
              "Emily  10.0  3.4  9.1          7.5"
            ]
          },
          "metadata": {
            "tags": []
          },
          "execution_count": 119
        }
      ]
    },
    {
      "cell_type": "code",
      "metadata": {
        "id": "UVMbtMMtlnKz"
      },
      "source": [
        "def aux(x):\r\n",
        "  if x >= 5:\r\n",
        "    return 'aprovado' \r\n",
        "  else:\r\n",
        "    return 'reprovado'\r\n",
        "\r\n",
        "notas_alunos['situacao'] = notas_alunos['media_final'].apply(aux)"
      ],
      "execution_count": 120,
      "outputs": []
    },
    {
      "cell_type": "code",
      "metadata": {
        "colab": {
          "base_uri": "https://localhost:8080/",
          "height": 204
        },
        "id": "P0atcohehhd9",
        "outputId": "9a2c7bdc-0982-495c-b49e-145a7323aa68"
      },
      "source": [
        "notas_alunos.head()"
      ],
      "execution_count": 121,
      "outputs": [
        {
          "output_type": "execute_result",
          "data": {
            "text/html": [
              "<div>\n",
              "<style scoped>\n",
              "    .dataframe tbody tr th:only-of-type {\n",
              "        vertical-align: middle;\n",
              "    }\n",
              "\n",
              "    .dataframe tbody tr th {\n",
              "        vertical-align: top;\n",
              "    }\n",
              "\n",
              "    .dataframe thead th {\n",
              "        text-align: right;\n",
              "    }\n",
              "</style>\n",
              "<table border=\"1\" class=\"dataframe\">\n",
              "  <thead>\n",
              "    <tr style=\"text-align: right;\">\n",
              "      <th></th>\n",
              "      <th>P1</th>\n",
              "      <th>P2</th>\n",
              "      <th>P3</th>\n",
              "      <th>media_final</th>\n",
              "      <th>situacao</th>\n",
              "    </tr>\n",
              "  </thead>\n",
              "  <tbody>\n",
              "    <tr>\n",
              "      <th>Alice</th>\n",
              "      <td>2.0</td>\n",
              "      <td>8.1</td>\n",
              "      <td>4.5</td>\n",
              "      <td>4.9</td>\n",
              "      <td>reprovado</td>\n",
              "    </tr>\n",
              "    <tr>\n",
              "      <th>Bruno</th>\n",
              "      <td>5.1</td>\n",
              "      <td>2.3</td>\n",
              "      <td>6.3</td>\n",
              "      <td>4.6</td>\n",
              "      <td>reprovado</td>\n",
              "    </tr>\n",
              "    <tr>\n",
              "      <th>Carla</th>\n",
              "      <td>7.3</td>\n",
              "      <td>0.5</td>\n",
              "      <td>0.5</td>\n",
              "      <td>2.8</td>\n",
              "      <td>reprovado</td>\n",
              "    </tr>\n",
              "    <tr>\n",
              "      <th>David</th>\n",
              "      <td>1.5</td>\n",
              "      <td>2.7</td>\n",
              "      <td>2.1</td>\n",
              "      <td>2.1</td>\n",
              "      <td>reprovado</td>\n",
              "    </tr>\n",
              "    <tr>\n",
              "      <th>Emily</th>\n",
              "      <td>10.0</td>\n",
              "      <td>3.4</td>\n",
              "      <td>9.1</td>\n",
              "      <td>7.5</td>\n",
              "      <td>aprovado</td>\n",
              "    </tr>\n",
              "  </tbody>\n",
              "</table>\n",
              "</div>"
            ],
            "text/plain": [
              "         P1   P2   P3  media_final   situacao\n",
              "Alice   2.0  8.1  4.5          4.9  reprovado\n",
              "Bruno   5.1  2.3  6.3          4.6  reprovado\n",
              "Carla   7.3  0.5  0.5          2.8  reprovado\n",
              "David   1.5  2.7  2.1          2.1  reprovado\n",
              "Emily  10.0  3.4  9.1          7.5   aprovado"
            ]
          },
          "metadata": {
            "tags": []
          },
          "execution_count": 121
        }
      ]
    },
    {
      "cell_type": "code",
      "metadata": {
        "colab": {
          "base_uri": "https://localhost:8080/"
        },
        "id": "5_0fPAp3hhae",
        "outputId": "10a9a7c6-608f-474c-a0e0-8e9935301fba"
      },
      "source": [
        "sexo = ['F', 'M'] * 5\r\n",
        "sexo"
      ],
      "execution_count": 122,
      "outputs": [
        {
          "output_type": "execute_result",
          "data": {
            "text/plain": [
              "['F', 'M', 'F', 'M', 'F', 'M', 'F', 'M', 'F', 'M']"
            ]
          },
          "metadata": {
            "tags": []
          },
          "execution_count": 122
        }
      ]
    },
    {
      "cell_type": "code",
      "metadata": {
        "colab": {
          "base_uri": "https://localhost:8080/",
          "height": 204
        },
        "id": "npU_9AXwhhUP",
        "outputId": "4fad8246-3860-4acf-c14b-391e873b9b6a"
      },
      "source": [
        "notas_alunos['sexo'] = sexo\r\n",
        "notas_alunos.head()"
      ],
      "execution_count": 123,
      "outputs": [
        {
          "output_type": "execute_result",
          "data": {
            "text/html": [
              "<div>\n",
              "<style scoped>\n",
              "    .dataframe tbody tr th:only-of-type {\n",
              "        vertical-align: middle;\n",
              "    }\n",
              "\n",
              "    .dataframe tbody tr th {\n",
              "        vertical-align: top;\n",
              "    }\n",
              "\n",
              "    .dataframe thead th {\n",
              "        text-align: right;\n",
              "    }\n",
              "</style>\n",
              "<table border=\"1\" class=\"dataframe\">\n",
              "  <thead>\n",
              "    <tr style=\"text-align: right;\">\n",
              "      <th></th>\n",
              "      <th>P1</th>\n",
              "      <th>P2</th>\n",
              "      <th>P3</th>\n",
              "      <th>media_final</th>\n",
              "      <th>situacao</th>\n",
              "      <th>sexo</th>\n",
              "    </tr>\n",
              "  </thead>\n",
              "  <tbody>\n",
              "    <tr>\n",
              "      <th>Alice</th>\n",
              "      <td>2.0</td>\n",
              "      <td>8.1</td>\n",
              "      <td>4.5</td>\n",
              "      <td>4.9</td>\n",
              "      <td>reprovado</td>\n",
              "      <td>F</td>\n",
              "    </tr>\n",
              "    <tr>\n",
              "      <th>Bruno</th>\n",
              "      <td>5.1</td>\n",
              "      <td>2.3</td>\n",
              "      <td>6.3</td>\n",
              "      <td>4.6</td>\n",
              "      <td>reprovado</td>\n",
              "      <td>M</td>\n",
              "    </tr>\n",
              "    <tr>\n",
              "      <th>Carla</th>\n",
              "      <td>7.3</td>\n",
              "      <td>0.5</td>\n",
              "      <td>0.5</td>\n",
              "      <td>2.8</td>\n",
              "      <td>reprovado</td>\n",
              "      <td>F</td>\n",
              "    </tr>\n",
              "    <tr>\n",
              "      <th>David</th>\n",
              "      <td>1.5</td>\n",
              "      <td>2.7</td>\n",
              "      <td>2.1</td>\n",
              "      <td>2.1</td>\n",
              "      <td>reprovado</td>\n",
              "      <td>M</td>\n",
              "    </tr>\n",
              "    <tr>\n",
              "      <th>Emily</th>\n",
              "      <td>10.0</td>\n",
              "      <td>3.4</td>\n",
              "      <td>9.1</td>\n",
              "      <td>7.5</td>\n",
              "      <td>aprovado</td>\n",
              "      <td>F</td>\n",
              "    </tr>\n",
              "  </tbody>\n",
              "</table>\n",
              "</div>"
            ],
            "text/plain": [
              "         P1   P2   P3  media_final   situacao sexo\n",
              "Alice   2.0  8.1  4.5          4.9  reprovado    F\n",
              "Bruno   5.1  2.3  6.3          4.6  reprovado    M\n",
              "Carla   7.3  0.5  0.5          2.8  reprovado    F\n",
              "David   1.5  2.7  2.1          2.1  reprovado    M\n",
              "Emily  10.0  3.4  9.1          7.5   aprovado    F"
            ]
          },
          "metadata": {
            "tags": []
          },
          "execution_count": 123
        }
      ]
    },
    {
      "cell_type": "code",
      "metadata": {
        "colab": {
          "base_uri": "https://localhost:8080/",
          "height": 359
        },
        "id": "_mWXw-VthhJO",
        "outputId": "882b627c-b780-4df4-aa68-cb114d685b0f"
      },
      "source": [
        "notas_alunos.sort_values(by='media_final', ascending=False)"
      ],
      "execution_count": 124,
      "outputs": [
        {
          "output_type": "execute_result",
          "data": {
            "text/html": [
              "<div>\n",
              "<style scoped>\n",
              "    .dataframe tbody tr th:only-of-type {\n",
              "        vertical-align: middle;\n",
              "    }\n",
              "\n",
              "    .dataframe tbody tr th {\n",
              "        vertical-align: top;\n",
              "    }\n",
              "\n",
              "    .dataframe thead th {\n",
              "        text-align: right;\n",
              "    }\n",
              "</style>\n",
              "<table border=\"1\" class=\"dataframe\">\n",
              "  <thead>\n",
              "    <tr style=\"text-align: right;\">\n",
              "      <th></th>\n",
              "      <th>P1</th>\n",
              "      <th>P2</th>\n",
              "      <th>P3</th>\n",
              "      <th>media_final</th>\n",
              "      <th>situacao</th>\n",
              "      <th>sexo</th>\n",
              "    </tr>\n",
              "  </thead>\n",
              "  <tbody>\n",
              "    <tr>\n",
              "      <th>Emily</th>\n",
              "      <td>10.0</td>\n",
              "      <td>3.4</td>\n",
              "      <td>9.1</td>\n",
              "      <td>7.5</td>\n",
              "      <td>aprovado</td>\n",
              "      <td>F</td>\n",
              "    </tr>\n",
              "    <tr>\n",
              "      <th>Isabela</th>\n",
              "      <td>8.8</td>\n",
              "      <td>9.0</td>\n",
              "      <td>1.1</td>\n",
              "      <td>6.3</td>\n",
              "      <td>aprovado</td>\n",
              "      <td>F</td>\n",
              "    </tr>\n",
              "    <tr>\n",
              "      <th>Fábio</th>\n",
              "      <td>8.7</td>\n",
              "      <td>2.6</td>\n",
              "      <td>7.3</td>\n",
              "      <td>6.2</td>\n",
              "      <td>aprovado</td>\n",
              "      <td>M</td>\n",
              "    </tr>\n",
              "    <tr>\n",
              "      <th>Lucas</th>\n",
              "      <td>8.6</td>\n",
              "      <td>9.1</td>\n",
              "      <td>0.1</td>\n",
              "      <td>5.9</td>\n",
              "      <td>aprovado</td>\n",
              "      <td>M</td>\n",
              "    </tr>\n",
              "    <tr>\n",
              "      <th>Alice</th>\n",
              "      <td>2.0</td>\n",
              "      <td>8.1</td>\n",
              "      <td>4.5</td>\n",
              "      <td>4.9</td>\n",
              "      <td>reprovado</td>\n",
              "      <td>F</td>\n",
              "    </tr>\n",
              "    <tr>\n",
              "      <th>Bruno</th>\n",
              "      <td>5.1</td>\n",
              "      <td>2.3</td>\n",
              "      <td>6.3</td>\n",
              "      <td>4.6</td>\n",
              "      <td>reprovado</td>\n",
              "      <td>M</td>\n",
              "    </tr>\n",
              "    <tr>\n",
              "      <th>Helio</th>\n",
              "      <td>4.6</td>\n",
              "      <td>8.6</td>\n",
              "      <td>0.6</td>\n",
              "      <td>4.6</td>\n",
              "      <td>reprovado</td>\n",
              "      <td>M</td>\n",
              "    </tr>\n",
              "    <tr>\n",
              "      <th>Gloria</th>\n",
              "      <td>0.2</td>\n",
              "      <td>8.6</td>\n",
              "      <td>4.5</td>\n",
              "      <td>4.4</td>\n",
              "      <td>reprovado</td>\n",
              "      <td>F</td>\n",
              "    </tr>\n",
              "    <tr>\n",
              "      <th>Carla</th>\n",
              "      <td>7.3</td>\n",
              "      <td>0.5</td>\n",
              "      <td>0.5</td>\n",
              "      <td>2.8</td>\n",
              "      <td>reprovado</td>\n",
              "      <td>F</td>\n",
              "    </tr>\n",
              "    <tr>\n",
              "      <th>David</th>\n",
              "      <td>1.5</td>\n",
              "      <td>2.7</td>\n",
              "      <td>2.1</td>\n",
              "      <td>2.1</td>\n",
              "      <td>reprovado</td>\n",
              "      <td>M</td>\n",
              "    </tr>\n",
              "  </tbody>\n",
              "</table>\n",
              "</div>"
            ],
            "text/plain": [
              "           P1   P2   P3  media_final   situacao sexo\n",
              "Emily    10.0  3.4  9.1          7.5   aprovado    F\n",
              "Isabela   8.8  9.0  1.1          6.3   aprovado    F\n",
              "Fábio     8.7  2.6  7.3          6.2   aprovado    M\n",
              "Lucas     8.6  9.1  0.1          5.9   aprovado    M\n",
              "Alice     2.0  8.1  4.5          4.9  reprovado    F\n",
              "Bruno     5.1  2.3  6.3          4.6  reprovado    M\n",
              "Helio     4.6  8.6  0.6          4.6  reprovado    M\n",
              "Gloria    0.2  8.6  4.5          4.4  reprovado    F\n",
              "Carla     7.3  0.5  0.5          2.8  reprovado    F\n",
              "David     1.5  2.7  2.1          2.1  reprovado    M"
            ]
          },
          "metadata": {
            "tags": []
          },
          "execution_count": 124
        }
      ]
    },
    {
      "cell_type": "code",
      "metadata": {
        "colab": {
          "base_uri": "https://localhost:8080/"
        },
        "id": "1r4AGUPMhg7S",
        "outputId": "ff0212d4-c80d-44b3-e634-2fea434317fb"
      },
      "source": [
        "notas_alunos['situacao'] == 'aprovado'"
      ],
      "execution_count": 125,
      "outputs": [
        {
          "output_type": "execute_result",
          "data": {
            "text/plain": [
              "Alice      False\n",
              "Bruno      False\n",
              "Carla      False\n",
              "David      False\n",
              "Emily       True\n",
              "Fábio       True\n",
              "Gloria     False\n",
              "Helio      False\n",
              "Isabela     True\n",
              "Lucas       True\n",
              "Name: situacao, dtype: bool"
            ]
          },
          "metadata": {
            "tags": []
          },
          "execution_count": 125
        }
      ]
    },
    {
      "cell_type": "code",
      "metadata": {
        "colab": {
          "base_uri": "https://localhost:8080/",
          "height": 173
        },
        "id": "04YseiUong3e",
        "outputId": "09c84a57-b855-4ebf-ec12-9d41b0b6864c"
      },
      "source": [
        "notas_alunos_aprovados = notas_alunos[notas_alunos['situacao'] == 'aprovado']\r\n",
        "notas_alunos_aprovados"
      ],
      "execution_count": 126,
      "outputs": [
        {
          "output_type": "execute_result",
          "data": {
            "text/html": [
              "<div>\n",
              "<style scoped>\n",
              "    .dataframe tbody tr th:only-of-type {\n",
              "        vertical-align: middle;\n",
              "    }\n",
              "\n",
              "    .dataframe tbody tr th {\n",
              "        vertical-align: top;\n",
              "    }\n",
              "\n",
              "    .dataframe thead th {\n",
              "        text-align: right;\n",
              "    }\n",
              "</style>\n",
              "<table border=\"1\" class=\"dataframe\">\n",
              "  <thead>\n",
              "    <tr style=\"text-align: right;\">\n",
              "      <th></th>\n",
              "      <th>P1</th>\n",
              "      <th>P2</th>\n",
              "      <th>P3</th>\n",
              "      <th>media_final</th>\n",
              "      <th>situacao</th>\n",
              "      <th>sexo</th>\n",
              "    </tr>\n",
              "  </thead>\n",
              "  <tbody>\n",
              "    <tr>\n",
              "      <th>Emily</th>\n",
              "      <td>10.0</td>\n",
              "      <td>3.4</td>\n",
              "      <td>9.1</td>\n",
              "      <td>7.5</td>\n",
              "      <td>aprovado</td>\n",
              "      <td>F</td>\n",
              "    </tr>\n",
              "    <tr>\n",
              "      <th>Fábio</th>\n",
              "      <td>8.7</td>\n",
              "      <td>2.6</td>\n",
              "      <td>7.3</td>\n",
              "      <td>6.2</td>\n",
              "      <td>aprovado</td>\n",
              "      <td>M</td>\n",
              "    </tr>\n",
              "    <tr>\n",
              "      <th>Isabela</th>\n",
              "      <td>8.8</td>\n",
              "      <td>9.0</td>\n",
              "      <td>1.1</td>\n",
              "      <td>6.3</td>\n",
              "      <td>aprovado</td>\n",
              "      <td>F</td>\n",
              "    </tr>\n",
              "    <tr>\n",
              "      <th>Lucas</th>\n",
              "      <td>8.6</td>\n",
              "      <td>9.1</td>\n",
              "      <td>0.1</td>\n",
              "      <td>5.9</td>\n",
              "      <td>aprovado</td>\n",
              "      <td>M</td>\n",
              "    </tr>\n",
              "  </tbody>\n",
              "</table>\n",
              "</div>"
            ],
            "text/plain": [
              "           P1   P2   P3  media_final  situacao sexo\n",
              "Emily    10.0  3.4  9.1          7.5  aprovado    F\n",
              "Fábio     8.7  2.6  7.3          6.2  aprovado    M\n",
              "Isabela   8.8  9.0  1.1          6.3  aprovado    F\n",
              "Lucas     8.6  9.1  0.1          5.9  aprovado    M"
            ]
          },
          "metadata": {
            "tags": []
          },
          "execution_count": 126
        }
      ]
    },
    {
      "cell_type": "code",
      "metadata": {
        "colab": {
          "base_uri": "https://localhost:8080/"
        },
        "id": "ZnCkOrvSng08",
        "outputId": "58c22b6b-604e-49f0-9392-3a19f6e4998b"
      },
      "source": [
        "notas_alunos_aprovados['media_final'].mean()"
      ],
      "execution_count": 127,
      "outputs": [
        {
          "output_type": "execute_result",
          "data": {
            "text/plain": [
              "6.475"
            ]
          },
          "metadata": {
            "tags": []
          },
          "execution_count": 127
        }
      ]
    },
    {
      "cell_type": "code",
      "metadata": {
        "colab": {
          "base_uri": "https://localhost:8080/",
          "height": 235
        },
        "id": "RXD8mdl-ngyK",
        "outputId": "6d18eaa9-f557-4b29-bced-4194dc8ce217"
      },
      "source": [
        "notas_alunos_reprovados = notas_alunos[notas_alunos['situacao'] == 'reprovado']\r\n",
        "notas_alunos_reprovados"
      ],
      "execution_count": 128,
      "outputs": [
        {
          "output_type": "execute_result",
          "data": {
            "text/html": [
              "<div>\n",
              "<style scoped>\n",
              "    .dataframe tbody tr th:only-of-type {\n",
              "        vertical-align: middle;\n",
              "    }\n",
              "\n",
              "    .dataframe tbody tr th {\n",
              "        vertical-align: top;\n",
              "    }\n",
              "\n",
              "    .dataframe thead th {\n",
              "        text-align: right;\n",
              "    }\n",
              "</style>\n",
              "<table border=\"1\" class=\"dataframe\">\n",
              "  <thead>\n",
              "    <tr style=\"text-align: right;\">\n",
              "      <th></th>\n",
              "      <th>P1</th>\n",
              "      <th>P2</th>\n",
              "      <th>P3</th>\n",
              "      <th>media_final</th>\n",
              "      <th>situacao</th>\n",
              "      <th>sexo</th>\n",
              "    </tr>\n",
              "  </thead>\n",
              "  <tbody>\n",
              "    <tr>\n",
              "      <th>Alice</th>\n",
              "      <td>2.0</td>\n",
              "      <td>8.1</td>\n",
              "      <td>4.5</td>\n",
              "      <td>4.9</td>\n",
              "      <td>reprovado</td>\n",
              "      <td>F</td>\n",
              "    </tr>\n",
              "    <tr>\n",
              "      <th>Bruno</th>\n",
              "      <td>5.1</td>\n",
              "      <td>2.3</td>\n",
              "      <td>6.3</td>\n",
              "      <td>4.6</td>\n",
              "      <td>reprovado</td>\n",
              "      <td>M</td>\n",
              "    </tr>\n",
              "    <tr>\n",
              "      <th>Carla</th>\n",
              "      <td>7.3</td>\n",
              "      <td>0.5</td>\n",
              "      <td>0.5</td>\n",
              "      <td>2.8</td>\n",
              "      <td>reprovado</td>\n",
              "      <td>F</td>\n",
              "    </tr>\n",
              "    <tr>\n",
              "      <th>David</th>\n",
              "      <td>1.5</td>\n",
              "      <td>2.7</td>\n",
              "      <td>2.1</td>\n",
              "      <td>2.1</td>\n",
              "      <td>reprovado</td>\n",
              "      <td>M</td>\n",
              "    </tr>\n",
              "    <tr>\n",
              "      <th>Gloria</th>\n",
              "      <td>0.2</td>\n",
              "      <td>8.6</td>\n",
              "      <td>4.5</td>\n",
              "      <td>4.4</td>\n",
              "      <td>reprovado</td>\n",
              "      <td>F</td>\n",
              "    </tr>\n",
              "    <tr>\n",
              "      <th>Helio</th>\n",
              "      <td>4.6</td>\n",
              "      <td>8.6</td>\n",
              "      <td>0.6</td>\n",
              "      <td>4.6</td>\n",
              "      <td>reprovado</td>\n",
              "      <td>M</td>\n",
              "    </tr>\n",
              "  </tbody>\n",
              "</table>\n",
              "</div>"
            ],
            "text/plain": [
              "         P1   P2   P3  media_final   situacao sexo\n",
              "Alice   2.0  8.1  4.5          4.9  reprovado    F\n",
              "Bruno   5.1  2.3  6.3          4.6  reprovado    M\n",
              "Carla   7.3  0.5  0.5          2.8  reprovado    F\n",
              "David   1.5  2.7  2.1          2.1  reprovado    M\n",
              "Gloria  0.2  8.6  4.5          4.4  reprovado    F\n",
              "Helio   4.6  8.6  0.6          4.6  reprovado    M"
            ]
          },
          "metadata": {
            "tags": []
          },
          "execution_count": 128
        }
      ]
    },
    {
      "cell_type": "code",
      "metadata": {
        "colab": {
          "base_uri": "https://localhost:8080/"
        },
        "id": "c9Svqe04ngvn",
        "outputId": "2f5bd659-05f7-4ad2-d228-9dece42e7ffc"
      },
      "source": [
        "notas_alunos_reprovados['media_final'].mean()"
      ],
      "execution_count": 129,
      "outputs": [
        {
          "output_type": "execute_result",
          "data": {
            "text/plain": [
              "3.9"
            ]
          },
          "metadata": {
            "tags": []
          },
          "execution_count": 129
        }
      ]
    },
    {
      "cell_type": "code",
      "metadata": {
        "colab": {
          "base_uri": "https://localhost:8080/",
          "height": 142
        },
        "id": "eW-yOGjUngtT",
        "outputId": "627f8831-0f05-47f7-c2b1-93ff93e39fa7"
      },
      "source": [
        "# groupby com um parametro\r\n",
        "notas_alunos.groupby(notas_alunos['situacao']).mean().round(1)"
      ],
      "execution_count": 130,
      "outputs": [
        {
          "output_type": "execute_result",
          "data": {
            "text/html": [
              "<div>\n",
              "<style scoped>\n",
              "    .dataframe tbody tr th:only-of-type {\n",
              "        vertical-align: middle;\n",
              "    }\n",
              "\n",
              "    .dataframe tbody tr th {\n",
              "        vertical-align: top;\n",
              "    }\n",
              "\n",
              "    .dataframe thead th {\n",
              "        text-align: right;\n",
              "    }\n",
              "</style>\n",
              "<table border=\"1\" class=\"dataframe\">\n",
              "  <thead>\n",
              "    <tr style=\"text-align: right;\">\n",
              "      <th></th>\n",
              "      <th>P1</th>\n",
              "      <th>P2</th>\n",
              "      <th>P3</th>\n",
              "      <th>media_final</th>\n",
              "    </tr>\n",
              "    <tr>\n",
              "      <th>situacao</th>\n",
              "      <th></th>\n",
              "      <th></th>\n",
              "      <th></th>\n",
              "      <th></th>\n",
              "    </tr>\n",
              "  </thead>\n",
              "  <tbody>\n",
              "    <tr>\n",
              "      <th>aprovado</th>\n",
              "      <td>9.0</td>\n",
              "      <td>6.0</td>\n",
              "      <td>4.4</td>\n",
              "      <td>6.5</td>\n",
              "    </tr>\n",
              "    <tr>\n",
              "      <th>reprovado</th>\n",
              "      <td>3.4</td>\n",
              "      <td>5.1</td>\n",
              "      <td>3.1</td>\n",
              "      <td>3.9</td>\n",
              "    </tr>\n",
              "  </tbody>\n",
              "</table>\n",
              "</div>"
            ],
            "text/plain": [
              "            P1   P2   P3  media_final\n",
              "situacao                             \n",
              "aprovado   9.0  6.0  4.4          6.5\n",
              "reprovado  3.4  5.1  3.1          3.9"
            ]
          },
          "metadata": {
            "tags": []
          },
          "execution_count": 130
        }
      ]
    },
    {
      "cell_type": "code",
      "metadata": {
        "colab": {
          "base_uri": "https://localhost:8080/",
          "height": 142
        },
        "id": "I_QJ7nyMngq5",
        "outputId": "710e1641-4412-46fd-ae91-9df5d8bd20fc"
      },
      "source": [
        "notas_alunos.groupby(notas_alunos['sexo']).mean().round(1)"
      ],
      "execution_count": 131,
      "outputs": [
        {
          "output_type": "execute_result",
          "data": {
            "text/html": [
              "<div>\n",
              "<style scoped>\n",
              "    .dataframe tbody tr th:only-of-type {\n",
              "        vertical-align: middle;\n",
              "    }\n",
              "\n",
              "    .dataframe tbody tr th {\n",
              "        vertical-align: top;\n",
              "    }\n",
              "\n",
              "    .dataframe thead th {\n",
              "        text-align: right;\n",
              "    }\n",
              "</style>\n",
              "<table border=\"1\" class=\"dataframe\">\n",
              "  <thead>\n",
              "    <tr style=\"text-align: right;\">\n",
              "      <th></th>\n",
              "      <th>P1</th>\n",
              "      <th>P2</th>\n",
              "      <th>P3</th>\n",
              "      <th>media_final</th>\n",
              "    </tr>\n",
              "    <tr>\n",
              "      <th>sexo</th>\n",
              "      <th></th>\n",
              "      <th></th>\n",
              "      <th></th>\n",
              "      <th></th>\n",
              "    </tr>\n",
              "  </thead>\n",
              "  <tbody>\n",
              "    <tr>\n",
              "      <th>F</th>\n",
              "      <td>5.7</td>\n",
              "      <td>5.9</td>\n",
              "      <td>3.9</td>\n",
              "      <td>5.2</td>\n",
              "    </tr>\n",
              "    <tr>\n",
              "      <th>M</th>\n",
              "      <td>5.7</td>\n",
              "      <td>5.1</td>\n",
              "      <td>3.3</td>\n",
              "      <td>4.7</td>\n",
              "    </tr>\n",
              "  </tbody>\n",
              "</table>\n",
              "</div>"
            ],
            "text/plain": [
              "       P1   P2   P3  media_final\n",
              "sexo                            \n",
              "F     5.7  5.9  3.9          5.2\n",
              "M     5.7  5.1  3.3          4.7"
            ]
          },
          "metadata": {
            "tags": []
          },
          "execution_count": 131
        }
      ]
    },
    {
      "cell_type": "code",
      "metadata": {
        "colab": {
          "base_uri": "https://localhost:8080/"
        },
        "id": "SHwiGlJfngod",
        "outputId": "a62e1b7f-a299-4e07-94d3-9eb029591ddf"
      },
      "source": [
        "notas_alunos['media_final'].groupby(notas_alunos['sexo']).mean().round(1)"
      ],
      "execution_count": 132,
      "outputs": [
        {
          "output_type": "execute_result",
          "data": {
            "text/plain": [
              "sexo\n",
              "F    5.2\n",
              "M    4.7\n",
              "Name: media_final, dtype: float64"
            ]
          },
          "metadata": {
            "tags": []
          },
          "execution_count": 132
        }
      ]
    },
    {
      "cell_type": "code",
      "metadata": {
        "colab": {
          "base_uri": "https://localhost:8080/",
          "height": 282
        },
        "id": "vfa3dMCNngl-",
        "outputId": "e0a19821-cd64-48e1-a47e-de0dc02c47ce"
      },
      "source": [
        "notas_alunos['media_final'].plot(kind='hist')"
      ],
      "execution_count": 133,
      "outputs": [
        {
          "output_type": "execute_result",
          "data": {
            "text/plain": [
              "<matplotlib.axes._subplots.AxesSubplot at 0x7fc3dc7e7828>"
            ]
          },
          "metadata": {
            "tags": []
          },
          "execution_count": 133
        },
        {
          "output_type": "display_data",
          "data": {
            "image/png": "[encoded data removed]",
            "text/plain": [
              "<Figure size 432x288 with 1 Axes>"
            ]
          },
          "metadata": {
            "tags": [],
            "needs_background": "light"
          }
        }
      ]
    },
    {
      "cell_type": "code",
      "metadata": {
        "colab": {
          "base_uri": "https://localhost:8080/"
        },
        "id": "Qi8o7NnHngjn",
        "outputId": "d39ae4ed-b6d0-4af5-b202-1be616419cf9"
      },
      "source": [
        "notas_alunos['sexo'].value_counts()"
      ],
      "execution_count": 134,
      "outputs": [
        {
          "output_type": "execute_result",
          "data": {
            "text/plain": [
              "F    5\n",
              "M    5\n",
              "Name: sexo, dtype: int64"
            ]
          },
          "metadata": {
            "tags": []
          },
          "execution_count": 134
        }
      ]
    },
    {
      "cell_type": "code",
      "metadata": {
        "colab": {
          "base_uri": "https://localhost:8080/",
          "height": 265
        },
        "id": "RFpfbiZXngg_",
        "outputId": "1769d74c-33bf-4911-f34c-95df04c7a9e3"
      },
      "source": [
        "notas_alunos['sexo'].value_counts().plot(kind='pie')"
      ],
      "execution_count": 135,
      "outputs": [
        {
          "output_type": "execute_result",
          "data": {
            "text/plain": [
              "<matplotlib.axes._subplots.AxesSubplot at 0x7fc3dc7826a0>"
            ]
          },
          "metadata": {
            "tags": []
          },
          "execution_count": 135
        },
        {
          "output_type": "display_data",
          "data": {
            "image/png": "[encoded data removed]",
            "text/plain": [
              "<Figure size 432x288 with 1 Axes>"
            ]
          },
          "metadata": {
            "tags": []
          }
        }
      ]
    },
    {
      "cell_type": "code",
      "metadata": {
        "colab": {
          "base_uri": "https://localhost:8080/",
          "height": 282
        },
        "id": "uGiC2W6qngea",
        "outputId": "de1b13f9-0910-4fcd-812b-eeee99d47a5b"
      },
      "source": [
        "notas_alunos['situacao'].value_counts().plot(kind='barh')"
      ],
      "execution_count": 136,
      "outputs": [
        {
          "output_type": "execute_result",
          "data": {
            "text/plain": [
              "<matplotlib.axes._subplots.AxesSubplot at 0x7fc3dc747eb8>"
            ]
          },
          "metadata": {
            "tags": []
          },
          "execution_count": 136
        },
        {
          "output_type": "display_data",
          "data": {
            "image/png": "[encoded data removed]",
            "text/plain": [
              "<Figure size 432x288 with 1 Axes>"
            ]
          },
          "metadata": {
            "tags": [],
            "needs_background": "light"
          }
        }
      ]
    },
    {
      "cell_type": "code",
      "metadata": {
        "id": "r9ydP9umngbr"
      },
      "source": [
        ""
      ],
      "execution_count": 136,
      "outputs": []
    },
    {
      "cell_type": "code",
      "metadata": {
        "id": "eEKbYJBQngZI"
      },
      "source": [
        ""
      ],
      "execution_count": 136,
      "outputs": []
    }
  ]
}