{
  "nbformat": 4,
  "nbformat_minor": 0,
  "metadata": {
    "colab": {
      "name": "FLAI - Análise Exploratória de Dados em Python.ipynb",
      "provenance": [],
      "authorship_tag": "ABX9TyNy1YbpvBAQgdbfUSbFF+9O",
      "include_colab_link": true
    },
    "kernelspec": {
      "name": "python3",
      "display_name": "Python 3"
    }
  },
  "cells": [
    {
      "cell_type": "markdown",
      "metadata": {
        "id": "view-in-github",
        "colab_type": "text"
      },
      "source": [
        "<a href=\"https://colab.research.google.com/github/lstarke/flai_analise_exploratoria_de_dados/blob/main/FLAI_An%C3%A1lise_Explorat%C3%B3ria_de_Dados_em_Python.ipynb\" target=\"_parent\"><img src=\"https://colab.research.google.com/assets/colab-badge.svg\" alt=\"Open In Colab\"/></a>"
      ]
    },
    {
      "cell_type": "code",
      "metadata": {
        "colab": {
          "base_uri": "https://localhost:8080/"
        },
        "id": "2RKORcrfdTOs",
        "outputId": "a056cca0-ff26-4a45-a3e3-93f5ef9c4dfe"
      },
      "source": [
        "# Dicionários\r\n",
        "\r\n",
        "dicionario = {'nome': 'Leandro', \r\n",
        "              'idade': 37, \r\n",
        "              'comida_favorita':'hamburgues'}\r\n",
        "\r\n",
        "dicionario"
      ],
      "execution_count": 2,
      "outputs": [
        {
          "output_type": "execute_result",
          "data": {
            "text/plain": [
              "{'comida_favorita': 'hamburgues', 'idade': 37, 'nome': 'Leandro'}"
            ]
          },
          "metadata": {
            "tags": []
          },
          "execution_count": 2
        }
      ]
    },
    {
      "cell_type": "code",
      "metadata": {
        "colab": {
          "base_uri": "https://localhost:8080/",
          "height": 35
        },
        "id": "6edndehqd1E1",
        "outputId": "2a5b2a12-c9a3-465f-98fc-97e6ea14046c"
      },
      "source": [
        "dicionario['nome']"
      ],
      "execution_count": 3,
      "outputs": [
        {
          "output_type": "execute_result",
          "data": {
            "application/vnd.google.colaboratory.intrinsic+json": {
              "type": "string"
            },
            "text/plain": [
              "'Leandro'"
            ]
          },
          "metadata": {
            "tags": []
          },
          "execution_count": 3
        }
      ]
    },
    {
      "cell_type": "code",
      "metadata": {
        "colab": {
          "base_uri": "https://localhost:8080/"
        },
        "id": "OXGiin-OeAC-",
        "outputId": "ee13ae82-7c89-484f-f42b-d62e49c3adf2"
      },
      "source": [
        "dicionario.items()"
      ],
      "execution_count": 4,
      "outputs": [
        {
          "output_type": "execute_result",
          "data": {
            "text/plain": [
              "dict_items([('nome', 'Leandro'), ('idade', 37), ('comida_favorita', 'hamburgues')])"
            ]
          },
          "metadata": {
            "tags": []
          },
          "execution_count": 4
        }
      ]
    },
    {
      "cell_type": "code",
      "metadata": {
        "colab": {
          "base_uri": "https://localhost:8080/"
        },
        "id": "kGMrE4FLeENW",
        "outputId": "4d2aef62-5305-4c70-91bc-cae764d99776"
      },
      "source": [
        "dicionario.keys()"
      ],
      "execution_count": 5,
      "outputs": [
        {
          "output_type": "execute_result",
          "data": {
            "text/plain": [
              "dict_keys(['nome', 'idade', 'comida_favorita'])"
            ]
          },
          "metadata": {
            "tags": []
          },
          "execution_count": 5
        }
      ]
    },
    {
      "cell_type": "code",
      "metadata": {
        "colab": {
          "base_uri": "https://localhost:8080/"
        },
        "id": "T5fG7F7teG9e",
        "outputId": "56bf2a5b-91aa-41e0-e4d9-b31c4281c79d"
      },
      "source": [
        "dicionario.values()"
      ],
      "execution_count": 6,
      "outputs": [
        {
          "output_type": "execute_result",
          "data": {
            "text/plain": [
              "dict_values(['Leandro', 37, 'hamburgues'])"
            ]
          },
          "metadata": {
            "tags": []
          },
          "execution_count": 6
        }
      ]
    },
    {
      "cell_type": "code",
      "metadata": {
        "id": "BW8r7iwxeJAG"
      },
      "source": [
        "parametros = {'loc': 0,  'scale': 1, 'size': 10}"
      ],
      "execution_count": 7,
      "outputs": []
    },
    {
      "cell_type": "code",
      "metadata": {
        "id": "QZvmNWP_eYxu"
      },
      "source": [
        "import numpy as np"
      ],
      "execution_count": 8,
      "outputs": []
    },
    {
      "cell_type": "code",
      "metadata": {
        "colab": {
          "base_uri": "https://localhost:8080/"
        },
        "id": "sD42vGmkecfr",
        "outputId": "0a216a92-38b5-4e1a-b615-0da9ea438d69"
      },
      "source": [
        "np.random.normal(**parametros) # ** usa dicionário"
      ],
      "execution_count": 11,
      "outputs": [
        {
          "output_type": "execute_result",
          "data": {
            "text/plain": [
              "array([-0.06173593, -0.76548872,  0.9689037 ,  0.01200519, -0.75731042,\n",
              "       -0.79001855,  0.68519468, -1.40272477,  0.13243199,  1.2587707 ])"
            ]
          },
          "metadata": {
            "tags": []
          },
          "execution_count": 11
        }
      ]
    },
    {
      "cell_type": "code",
      "metadata": {
        "colab": {
          "base_uri": "https://localhost:8080/"
        },
        "id": "6eTIMQlSemSz",
        "outputId": "8763d7b3-51fa-49ce-9bc6-8e4206f848d8"
      },
      "source": [
        "np.random.normal(*[0, 1, 10]) # * usa lista"
      ],
      "execution_count": 12,
      "outputs": [
        {
          "output_type": "execute_result",
          "data": {
            "text/plain": [
              "array([-1.07568008,  1.14418579,  0.74266608, -1.18942595,  0.10570982,\n",
              "       -0.20993152,  0.00757355,  0.78491763, -0.17745868,  0.35198067])"
            ]
          },
          "metadata": {
            "tags": []
          },
          "execution_count": 12
        }
      ]
    },
    {
      "cell_type": "markdown",
      "metadata": {
        "id": "vPtdFX1mfXp6"
      },
      "source": [
        "---"
      ]
    },
    {
      "cell_type": "code",
      "metadata": {
        "id": "QVKFeSewe5Kz"
      },
      "source": [
        "# Pandas\r\n",
        "# Dataframe\r\n",
        "# Series\r\n",
        "\r\n",
        "import pandas as pd"
      ],
      "execution_count": 13,
      "outputs": []
    },
    {
      "cell_type": "code",
      "metadata": {
        "colab": {
          "base_uri": "https://localhost:8080/"
        },
        "id": "cXNDC0Uafy6R",
        "outputId": "deb6e3ca-960f-42bf-b9d5-7c4c0c0df1fb"
      },
      "source": [
        "notas = np.random.uniform(low=0, high=10, size=30).round(1).reshape(10,3)\r\n",
        "notas"
      ],
      "execution_count": 18,
      "outputs": [
        {
          "output_type": "execute_result",
          "data": {
            "text/plain": [
              "array([[6.1, 3.7, 4.7],\n",
              "       [5.8, 9.4, 4.2],\n",
              "       [6.2, 6.7, 6.8],\n",
              "       [1.5, 1.8, 5.2],\n",
              "       [6.6, 9.5, 8. ],\n",
              "       [5.5, 4.4, 0.7],\n",
              "       [4.6, 5.9, 8.2],\n",
              "       [1.5, 6.2, 2.6],\n",
              "       [2.9, 3.9, 8.5],\n",
              "       [9.2, 7.7, 9.4]])"
            ]
          },
          "metadata": {
            "tags": []
          },
          "execution_count": 18
        }
      ]
    },
    {
      "cell_type": "code",
      "metadata": {
        "id": "dcuLRABQgnb6"
      },
      "source": [
        "provas = ['P1', 'P2', 'P3']\r\n",
        "alunos = ['Alice', 'Bruno', 'Carla', 'David', 'Emily', 'Fábio', 'Gloria', 'Helio', 'Isabela', 'Lucas']"
      ],
      "execution_count": 20,
      "outputs": []
    },
    {
      "cell_type": "code",
      "metadata": {
        "id": "l5TJkRhNfR7v"
      },
      "source": [
        "notas_alunos = pd.DataFrame(data=notas, index=alunos , columns=provas)"
      ],
      "execution_count": 23,
      "outputs": []
    },
    {
      "cell_type": "code",
      "metadata": {
        "colab": {
          "base_uri": "https://localhost:8080/",
          "height": 204
        },
        "id": "JcOiW1KCjlmo",
        "outputId": "79d02ac9-0850-4640-8330-68ab4e8e4122"
      },
      "source": [
        "notas_alunos.head()"
      ],
      "execution_count": 35,
      "outputs": [
        {
          "output_type": "execute_result",
          "data": {
            "text/html": [
              "<div>\n",
              "<style scoped>\n",
              "    .dataframe tbody tr th:only-of-type {\n",
              "        vertical-align: middle;\n",
              "    }\n",
              "\n",
              "    .dataframe tbody tr th {\n",
              "        vertical-align: top;\n",
              "    }\n",
              "\n",
              "    .dataframe thead th {\n",
              "        text-align: right;\n",
              "    }\n",
              "</style>\n",
              "<table border=\"1\" class=\"dataframe\">\n",
              "  <thead>\n",
              "    <tr style=\"text-align: right;\">\n",
              "      <th></th>\n",
              "      <th>P1</th>\n",
              "      <th>P2</th>\n",
              "      <th>P3</th>\n",
              "    </tr>\n",
              "  </thead>\n",
              "  <tbody>\n",
              "    <tr>\n",
              "      <th>Alice</th>\n",
              "      <td>6.1</td>\n",
              "      <td>3.7</td>\n",
              "      <td>4.7</td>\n",
              "    </tr>\n",
              "    <tr>\n",
              "      <th>Bruno</th>\n",
              "      <td>5.8</td>\n",
              "      <td>9.4</td>\n",
              "      <td>4.2</td>\n",
              "    </tr>\n",
              "    <tr>\n",
              "      <th>Carla</th>\n",
              "      <td>6.2</td>\n",
              "      <td>6.7</td>\n",
              "      <td>6.8</td>\n",
              "    </tr>\n",
              "    <tr>\n",
              "      <th>David</th>\n",
              "      <td>1.5</td>\n",
              "      <td>1.8</td>\n",
              "      <td>5.2</td>\n",
              "    </tr>\n",
              "    <tr>\n",
              "      <th>Emily</th>\n",
              "      <td>6.6</td>\n",
              "      <td>9.5</td>\n",
              "      <td>8.0</td>\n",
              "    </tr>\n",
              "  </tbody>\n",
              "</table>\n",
              "</div>"
            ],
            "text/plain": [
              "        P1   P2   P3\n",
              "Alice  6.1  3.7  4.7\n",
              "Bruno  5.8  9.4  4.2\n",
              "Carla  6.2  6.7  6.8\n",
              "David  1.5  1.8  5.2\n",
              "Emily  6.6  9.5  8.0"
            ]
          },
          "metadata": {
            "tags": []
          },
          "execution_count": 35
        }
      ]
    },
    {
      "cell_type": "code",
      "metadata": {
        "colab": {
          "base_uri": "https://localhost:8080/"
        },
        "id": "_yem8qEghN4Y",
        "outputId": "88c7c52a-f682-40d1-b240-9e1c10df86e7"
      },
      "source": [
        "notas_alunos.info()"
      ],
      "execution_count": 24,
      "outputs": [
        {
          "output_type": "stream",
          "text": [
            "<class 'pandas.core.frame.DataFrame'>\n",
            "Index: 10 entries, Alice to Lucas\n",
            "Data columns (total 3 columns):\n",
            " #   Column  Non-Null Count  Dtype  \n",
            "---  ------  --------------  -----  \n",
            " 0   P1      10 non-null     float64\n",
            " 1   P2      10 non-null     float64\n",
            " 2   P3      10 non-null     float64\n",
            "dtypes: float64(3)\n",
            "memory usage: 320.0+ bytes\n"
          ],
          "name": "stdout"
        }
      ]
    },
    {
      "cell_type": "code",
      "metadata": {
        "colab": {
          "base_uri": "https://localhost:8080/",
          "height": 297
        },
        "id": "B-vP_rEIhhx4",
        "outputId": "321a6f17-f334-4532-f56f-1b7f5fcd0417"
      },
      "source": [
        "notas_alunos.describe()"
      ],
      "execution_count": 25,
      "outputs": [
        {
          "output_type": "execute_result",
          "data": {
            "text/html": [
              "<div>\n",
              "<style scoped>\n",
              "    .dataframe tbody tr th:only-of-type {\n",
              "        vertical-align: middle;\n",
              "    }\n",
              "\n",
              "    .dataframe tbody tr th {\n",
              "        vertical-align: top;\n",
              "    }\n",
              "\n",
              "    .dataframe thead th {\n",
              "        text-align: right;\n",
              "    }\n",
              "</style>\n",
              "<table border=\"1\" class=\"dataframe\">\n",
              "  <thead>\n",
              "    <tr style=\"text-align: right;\">\n",
              "      <th></th>\n",
              "      <th>P1</th>\n",
              "      <th>P2</th>\n",
              "      <th>P3</th>\n",
              "    </tr>\n",
              "  </thead>\n",
              "  <tbody>\n",
              "    <tr>\n",
              "      <th>count</th>\n",
              "      <td>10.000000</td>\n",
              "      <td>10.000000</td>\n",
              "      <td>10.000000</td>\n",
              "    </tr>\n",
              "    <tr>\n",
              "      <th>mean</th>\n",
              "      <td>4.990000</td>\n",
              "      <td>5.920000</td>\n",
              "      <td>5.830000</td>\n",
              "    </tr>\n",
              "    <tr>\n",
              "      <th>std</th>\n",
              "      <td>2.422327</td>\n",
              "      <td>2.518289</td>\n",
              "      <td>2.832765</td>\n",
              "    </tr>\n",
              "    <tr>\n",
              "      <th>min</th>\n",
              "      <td>1.500000</td>\n",
              "      <td>1.800000</td>\n",
              "      <td>0.700000</td>\n",
              "    </tr>\n",
              "    <tr>\n",
              "      <th>25%</th>\n",
              "      <td>3.325000</td>\n",
              "      <td>4.025000</td>\n",
              "      <td>4.325000</td>\n",
              "    </tr>\n",
              "    <tr>\n",
              "      <th>50%</th>\n",
              "      <td>5.650000</td>\n",
              "      <td>6.050000</td>\n",
              "      <td>6.000000</td>\n",
              "    </tr>\n",
              "    <tr>\n",
              "      <th>75%</th>\n",
              "      <td>6.175000</td>\n",
              "      <td>7.450000</td>\n",
              "      <td>8.150000</td>\n",
              "    </tr>\n",
              "    <tr>\n",
              "      <th>max</th>\n",
              "      <td>9.200000</td>\n",
              "      <td>9.500000</td>\n",
              "      <td>9.400000</td>\n",
              "    </tr>\n",
              "  </tbody>\n",
              "</table>\n",
              "</div>"
            ],
            "text/plain": [
              "              P1         P2         P3\n",
              "count  10.000000  10.000000  10.000000\n",
              "mean    4.990000   5.920000   5.830000\n",
              "std     2.422327   2.518289   2.832765\n",
              "min     1.500000   1.800000   0.700000\n",
              "25%     3.325000   4.025000   4.325000\n",
              "50%     5.650000   6.050000   6.000000\n",
              "75%     6.175000   7.450000   8.150000\n",
              "max     9.200000   9.500000   9.400000"
            ]
          },
          "metadata": {
            "tags": []
          },
          "execution_count": 25
        }
      ]
    },
    {
      "cell_type": "code",
      "metadata": {
        "colab": {
          "base_uri": "https://localhost:8080/",
          "height": 142
        },
        "id": "NfrIKZQIhhvm",
        "outputId": "df2f9d0a-08dd-4230-f779-1dde51571c3a"
      },
      "source": [
        "notas_alunos.transpose()"
      ],
      "execution_count": 27,
      "outputs": [
        {
          "output_type": "execute_result",
          "data": {
            "text/html": [
              "<div>\n",
              "<style scoped>\n",
              "    .dataframe tbody tr th:only-of-type {\n",
              "        vertical-align: middle;\n",
              "    }\n",
              "\n",
              "    .dataframe tbody tr th {\n",
              "        vertical-align: top;\n",
              "    }\n",
              "\n",
              "    .dataframe thead th {\n",
              "        text-align: right;\n",
              "    }\n",
              "</style>\n",
              "<table border=\"1\" class=\"dataframe\">\n",
              "  <thead>\n",
              "    <tr style=\"text-align: right;\">\n",
              "      <th></th>\n",
              "      <th>Alice</th>\n",
              "      <th>Bruno</th>\n",
              "      <th>Carla</th>\n",
              "      <th>David</th>\n",
              "      <th>Emily</th>\n",
              "      <th>Fábio</th>\n",
              "      <th>Gloria</th>\n",
              "      <th>Helio</th>\n",
              "      <th>Isabela</th>\n",
              "      <th>Lucas</th>\n",
              "    </tr>\n",
              "  </thead>\n",
              "  <tbody>\n",
              "    <tr>\n",
              "      <th>P1</th>\n",
              "      <td>6.1</td>\n",
              "      <td>5.8</td>\n",
              "      <td>6.2</td>\n",
              "      <td>1.5</td>\n",
              "      <td>6.6</td>\n",
              "      <td>5.5</td>\n",
              "      <td>4.6</td>\n",
              "      <td>1.5</td>\n",
              "      <td>2.9</td>\n",
              "      <td>9.2</td>\n",
              "    </tr>\n",
              "    <tr>\n",
              "      <th>P2</th>\n",
              "      <td>3.7</td>\n",
              "      <td>9.4</td>\n",
              "      <td>6.7</td>\n",
              "      <td>1.8</td>\n",
              "      <td>9.5</td>\n",
              "      <td>4.4</td>\n",
              "      <td>5.9</td>\n",
              "      <td>6.2</td>\n",
              "      <td>3.9</td>\n",
              "      <td>7.7</td>\n",
              "    </tr>\n",
              "    <tr>\n",
              "      <th>P3</th>\n",
              "      <td>4.7</td>\n",
              "      <td>4.2</td>\n",
              "      <td>6.8</td>\n",
              "      <td>5.2</td>\n",
              "      <td>8.0</td>\n",
              "      <td>0.7</td>\n",
              "      <td>8.2</td>\n",
              "      <td>2.6</td>\n",
              "      <td>8.5</td>\n",
              "      <td>9.4</td>\n",
              "    </tr>\n",
              "  </tbody>\n",
              "</table>\n",
              "</div>"
            ],
            "text/plain": [
              "    Alice  Bruno  Carla  David  Emily  Fábio  Gloria  Helio  Isabela  Lucas\n",
              "P1    6.1    5.8    6.2    1.5    6.6    5.5     4.6    1.5      2.9    9.2\n",
              "P2    3.7    9.4    6.7    1.8    9.5    4.4     5.9    6.2      3.9    7.7\n",
              "P3    4.7    4.2    6.8    5.2    8.0    0.7     8.2    2.6      8.5    9.4"
            ]
          },
          "metadata": {
            "tags": []
          },
          "execution_count": 27
        }
      ]
    },
    {
      "cell_type": "code",
      "metadata": {
        "colab": {
          "base_uri": "https://localhost:8080/",
          "height": 297
        },
        "id": "Tc3QEVYihhtK",
        "outputId": "678a6a5c-f8ed-4dca-e8ce-217a1f13859b"
      },
      "source": [
        "notas_alunos.transpose().describe()"
      ],
      "execution_count": 28,
      "outputs": [
        {
          "output_type": "execute_result",
          "data": {
            "text/html": [
              "<div>\n",
              "<style scoped>\n",
              "    .dataframe tbody tr th:only-of-type {\n",
              "        vertical-align: middle;\n",
              "    }\n",
              "\n",
              "    .dataframe tbody tr th {\n",
              "        vertical-align: top;\n",
              "    }\n",
              "\n",
              "    .dataframe thead th {\n",
              "        text-align: right;\n",
              "    }\n",
              "</style>\n",
              "<table border=\"1\" class=\"dataframe\">\n",
              "  <thead>\n",
              "    <tr style=\"text-align: right;\">\n",
              "      <th></th>\n",
              "      <th>Alice</th>\n",
              "      <th>Bruno</th>\n",
              "      <th>Carla</th>\n",
              "      <th>David</th>\n",
              "      <th>Emily</th>\n",
              "      <th>Fábio</th>\n",
              "      <th>Gloria</th>\n",
              "      <th>Helio</th>\n",
              "      <th>Isabela</th>\n",
              "      <th>Lucas</th>\n",
              "    </tr>\n",
              "  </thead>\n",
              "  <tbody>\n",
              "    <tr>\n",
              "      <th>count</th>\n",
              "      <td>3.000000</td>\n",
              "      <td>3.000000</td>\n",
              "      <td>3.000000</td>\n",
              "      <td>3.000000</td>\n",
              "      <td>3.000000</td>\n",
              "      <td>3.000000</td>\n",
              "      <td>3.000000</td>\n",
              "      <td>3.000000</td>\n",
              "      <td>3.000000</td>\n",
              "      <td>3.000000</td>\n",
              "    </tr>\n",
              "    <tr>\n",
              "      <th>mean</th>\n",
              "      <td>4.833333</td>\n",
              "      <td>6.466667</td>\n",
              "      <td>6.566667</td>\n",
              "      <td>2.833333</td>\n",
              "      <td>8.033333</td>\n",
              "      <td>3.533333</td>\n",
              "      <td>6.233333</td>\n",
              "      <td>3.433333</td>\n",
              "      <td>5.100000</td>\n",
              "      <td>8.766667</td>\n",
              "    </tr>\n",
              "    <tr>\n",
              "      <th>std</th>\n",
              "      <td>1.205543</td>\n",
              "      <td>2.663331</td>\n",
              "      <td>0.321455</td>\n",
              "      <td>2.055075</td>\n",
              "      <td>1.450287</td>\n",
              "      <td>2.514624</td>\n",
              "      <td>1.823001</td>\n",
              "      <td>2.458319</td>\n",
              "      <td>2.986637</td>\n",
              "      <td>0.929157</td>\n",
              "    </tr>\n",
              "    <tr>\n",
              "      <th>min</th>\n",
              "      <td>3.700000</td>\n",
              "      <td>4.200000</td>\n",
              "      <td>6.200000</td>\n",
              "      <td>1.500000</td>\n",
              "      <td>6.600000</td>\n",
              "      <td>0.700000</td>\n",
              "      <td>4.600000</td>\n",
              "      <td>1.500000</td>\n",
              "      <td>2.900000</td>\n",
              "      <td>7.700000</td>\n",
              "    </tr>\n",
              "    <tr>\n",
              "      <th>25%</th>\n",
              "      <td>4.200000</td>\n",
              "      <td>5.000000</td>\n",
              "      <td>6.450000</td>\n",
              "      <td>1.650000</td>\n",
              "      <td>7.300000</td>\n",
              "      <td>2.550000</td>\n",
              "      <td>5.250000</td>\n",
              "      <td>2.050000</td>\n",
              "      <td>3.400000</td>\n",
              "      <td>8.450000</td>\n",
              "    </tr>\n",
              "    <tr>\n",
              "      <th>50%</th>\n",
              "      <td>4.700000</td>\n",
              "      <td>5.800000</td>\n",
              "      <td>6.700000</td>\n",
              "      <td>1.800000</td>\n",
              "      <td>8.000000</td>\n",
              "      <td>4.400000</td>\n",
              "      <td>5.900000</td>\n",
              "      <td>2.600000</td>\n",
              "      <td>3.900000</td>\n",
              "      <td>9.200000</td>\n",
              "    </tr>\n",
              "    <tr>\n",
              "      <th>75%</th>\n",
              "      <td>5.400000</td>\n",
              "      <td>7.600000</td>\n",
              "      <td>6.750000</td>\n",
              "      <td>3.500000</td>\n",
              "      <td>8.750000</td>\n",
              "      <td>4.950000</td>\n",
              "      <td>7.050000</td>\n",
              "      <td>4.400000</td>\n",
              "      <td>6.200000</td>\n",
              "      <td>9.300000</td>\n",
              "    </tr>\n",
              "    <tr>\n",
              "      <th>max</th>\n",
              "      <td>6.100000</td>\n",
              "      <td>9.400000</td>\n",
              "      <td>6.800000</td>\n",
              "      <td>5.200000</td>\n",
              "      <td>9.500000</td>\n",
              "      <td>5.500000</td>\n",
              "      <td>8.200000</td>\n",
              "      <td>6.200000</td>\n",
              "      <td>8.500000</td>\n",
              "      <td>9.400000</td>\n",
              "    </tr>\n",
              "  </tbody>\n",
              "</table>\n",
              "</div>"
            ],
            "text/plain": [
              "          Alice     Bruno     Carla  ...     Helio   Isabela     Lucas\n",
              "count  3.000000  3.000000  3.000000  ...  3.000000  3.000000  3.000000\n",
              "mean   4.833333  6.466667  6.566667  ...  3.433333  5.100000  8.766667\n",
              "std    1.205543  2.663331  0.321455  ...  2.458319  2.986637  0.929157\n",
              "min    3.700000  4.200000  6.200000  ...  1.500000  2.900000  7.700000\n",
              "25%    4.200000  5.000000  6.450000  ...  2.050000  3.400000  8.450000\n",
              "50%    4.700000  5.800000  6.700000  ...  2.600000  3.900000  9.200000\n",
              "75%    5.400000  7.600000  6.750000  ...  4.400000  6.200000  9.300000\n",
              "max    6.100000  9.400000  6.800000  ...  6.200000  8.500000  9.400000\n",
              "\n",
              "[8 rows x 10 columns]"
            ]
          },
          "metadata": {
            "tags": []
          },
          "execution_count": 28
        }
      ]
    },
    {
      "cell_type": "code",
      "metadata": {
        "colab": {
          "base_uri": "https://localhost:8080/"
        },
        "id": "8X5HgMZ9hhq8",
        "outputId": "a7e15ad3-59bb-42a9-b134-89e0c651a613"
      },
      "source": [
        "notas_alunos.shape"
      ],
      "execution_count": 29,
      "outputs": [
        {
          "output_type": "execute_result",
          "data": {
            "text/plain": [
              "(10, 3)"
            ]
          },
          "metadata": {
            "tags": []
          },
          "execution_count": 29
        }
      ]
    },
    {
      "cell_type": "code",
      "metadata": {
        "colab": {
          "base_uri": "https://localhost:8080/"
        },
        "id": "ydCTXIe3hhoH",
        "outputId": "bf379396-2c99-4410-ef36-cd080457bd3c"
      },
      "source": [
        "notas_alunos['P1'] # quando é uma coluna do dataframe o tipo é Series"
      ],
      "execution_count": 31,
      "outputs": [
        {
          "output_type": "execute_result",
          "data": {
            "text/plain": [
              "Alice      6.1\n",
              "Bruno      5.8\n",
              "Carla      6.2\n",
              "David      1.5\n",
              "Emily      6.6\n",
              "Fábio      5.5\n",
              "Gloria     4.6\n",
              "Helio      1.5\n",
              "Isabela    2.9\n",
              "Lucas      9.2\n",
              "Name: P1, dtype: float64"
            ]
          },
          "metadata": {
            "tags": []
          },
          "execution_count": 31
        }
      ]
    },
    {
      "cell_type": "code",
      "metadata": {
        "colab": {
          "base_uri": "https://localhost:8080/"
        },
        "id": "80D8RVGehhl5",
        "outputId": "da4d08a4-9612-4c79-8363-8cb3516b5459"
      },
      "source": [
        "notas_alunos.mean(axis=0) # axis = 0 é colunas"
      ],
      "execution_count": 33,
      "outputs": [
        {
          "output_type": "execute_result",
          "data": {
            "text/plain": [
              "P1    4.99\n",
              "P2    5.92\n",
              "P3    5.83\n",
              "dtype: float64"
            ]
          },
          "metadata": {
            "tags": []
          },
          "execution_count": 33
        }
      ]
    },
    {
      "cell_type": "code",
      "metadata": {
        "colab": {
          "base_uri": "https://localhost:8080/"
        },
        "id": "avbEocb1hhjQ",
        "outputId": "f3b94d83-2156-4832-c8c6-32eb83973d22"
      },
      "source": [
        "notas_alunos.mean(axis=1) # axis = 1 é linhas"
      ],
      "execution_count": 34,
      "outputs": [
        {
          "output_type": "execute_result",
          "data": {
            "text/plain": [
              "Alice      4.833333\n",
              "Bruno      6.466667\n",
              "Carla      6.566667\n",
              "David      2.833333\n",
              "Emily      8.033333\n",
              "Fábio      3.533333\n",
              "Gloria     6.233333\n",
              "Helio      3.433333\n",
              "Isabela    5.100000\n",
              "Lucas      8.766667\n",
              "dtype: float64"
            ]
          },
          "metadata": {
            "tags": []
          },
          "execution_count": 34
        }
      ]
    },
    {
      "cell_type": "code",
      "metadata": {
        "colab": {
          "base_uri": "https://localhost:8080/",
          "height": 204
        },
        "id": "0CDtMExihhgz",
        "outputId": "162d5633-3604-4cbc-db46-4f5d11e46e2c"
      },
      "source": [
        "# adiciona nova coluna ao dataframe\r\n",
        "# calcula a média de notas dos alunos\r\n",
        "notas_alunos['media_final'] = notas_alunos.mean(axis=1).round(1)\r\n",
        "notas_alunos.head()"
      ],
      "execution_count": 37,
      "outputs": [
        {
          "output_type": "execute_result",
          "data": {
            "text/html": [
              "<div>\n",
              "<style scoped>\n",
              "    .dataframe tbody tr th:only-of-type {\n",
              "        vertical-align: middle;\n",
              "    }\n",
              "\n",
              "    .dataframe tbody tr th {\n",
              "        vertical-align: top;\n",
              "    }\n",
              "\n",
              "    .dataframe thead th {\n",
              "        text-align: right;\n",
              "    }\n",
              "</style>\n",
              "<table border=\"1\" class=\"dataframe\">\n",
              "  <thead>\n",
              "    <tr style=\"text-align: right;\">\n",
              "      <th></th>\n",
              "      <th>P1</th>\n",
              "      <th>P2</th>\n",
              "      <th>P3</th>\n",
              "      <th>media_final</th>\n",
              "    </tr>\n",
              "  </thead>\n",
              "  <tbody>\n",
              "    <tr>\n",
              "      <th>Alice</th>\n",
              "      <td>6.1</td>\n",
              "      <td>3.7</td>\n",
              "      <td>4.7</td>\n",
              "      <td>4.8</td>\n",
              "    </tr>\n",
              "    <tr>\n",
              "      <th>Bruno</th>\n",
              "      <td>5.8</td>\n",
              "      <td>9.4</td>\n",
              "      <td>4.2</td>\n",
              "      <td>6.5</td>\n",
              "    </tr>\n",
              "    <tr>\n",
              "      <th>Carla</th>\n",
              "      <td>6.2</td>\n",
              "      <td>6.7</td>\n",
              "      <td>6.8</td>\n",
              "      <td>6.6</td>\n",
              "    </tr>\n",
              "    <tr>\n",
              "      <th>David</th>\n",
              "      <td>1.5</td>\n",
              "      <td>1.8</td>\n",
              "      <td>5.2</td>\n",
              "      <td>2.8</td>\n",
              "    </tr>\n",
              "    <tr>\n",
              "      <th>Emily</th>\n",
              "      <td>6.6</td>\n",
              "      <td>9.5</td>\n",
              "      <td>8.0</td>\n",
              "      <td>8.0</td>\n",
              "    </tr>\n",
              "  </tbody>\n",
              "</table>\n",
              "</div>"
            ],
            "text/plain": [
              "        P1   P2   P3  media_final\n",
              "Alice  6.1  3.7  4.7          4.8\n",
              "Bruno  5.8  9.4  4.2          6.5\n",
              "Carla  6.2  6.7  6.8          6.6\n",
              "David  1.5  1.8  5.2          2.8\n",
              "Emily  6.6  9.5  8.0          8.0"
            ]
          },
          "metadata": {
            "tags": []
          },
          "execution_count": 37
        }
      ]
    },
    {
      "cell_type": "code",
      "metadata": {
        "id": "P0atcohehhd9"
      },
      "source": [
        ""
      ],
      "execution_count": null,
      "outputs": []
    },
    {
      "cell_type": "code",
      "metadata": {
        "id": "5_0fPAp3hhae"
      },
      "source": [
        ""
      ],
      "execution_count": null,
      "outputs": []
    },
    {
      "cell_type": "code",
      "metadata": {
        "id": "npU_9AXwhhUP"
      },
      "source": [
        ""
      ],
      "execution_count": null,
      "outputs": []
    },
    {
      "cell_type": "code",
      "metadata": {
        "id": "_mWXw-VthhJO"
      },
      "source": [
        ""
      ],
      "execution_count": null,
      "outputs": []
    },
    {
      "cell_type": "code",
      "metadata": {
        "id": "1r4AGUPMhg7S"
      },
      "source": [
        ""
      ],
      "execution_count": null,
      "outputs": []
    }
  ]
}