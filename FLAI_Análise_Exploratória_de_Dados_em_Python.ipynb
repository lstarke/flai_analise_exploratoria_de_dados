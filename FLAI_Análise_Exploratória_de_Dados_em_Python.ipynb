{
  "nbformat": 4,
  "nbformat_minor": 0,
  "metadata": {
    "colab": {
      "name": "FLAI - Análise Exploratória de Dados em Python.ipynb",
      "provenance": [],
      "authorship_tag": "ABX9TyOf2FpxmeezzAGrosVyqh2P",
      "include_colab_link": true
    },
    "kernelspec": {
      "name": "python3",
      "display_name": "Python 3"
    }
  },
  "cells": [
    {
      "cell_type": "markdown",
      "metadata": {
        "id": "view-in-github",
        "colab_type": "text"
      },
      "source": [
        "<a href=\"https://colab.research.google.com/github/lstarke/flai_analise_exploratoria_de_dados/blob/main/FLAI_An%C3%A1lise_Explorat%C3%B3ria_de_Dados_em_Python.ipynb\" target=\"_parent\"><img src=\"https://colab.research.google.com/assets/colab-badge.svg\" alt=\"Open In Colab\"/></a>"
      ]
    },
    {
      "cell_type": "code",
      "metadata": {
        "colab": {
          "base_uri": "https://localhost:8080/"
        },
        "id": "2RKORcrfdTOs",
        "outputId": "8c16583b-d91d-4425-c220-c51bcd1f3557"
      },
      "source": [
        "# Dicionários\r\n",
        "\r\n",
        "dicionario = {'nome': 'Leandro', \r\n",
        "              'idade': 37, \r\n",
        "              'comida_favorita':'hamburgues'}\r\n",
        "\r\n",
        "dicionario"
      ],
      "execution_count": 2,
      "outputs": [
        {
          "output_type": "execute_result",
          "data": {
            "text/plain": [
              "{'comida_favorita': 'hamburgues', 'idade': 37, 'nome': 'Leandro'}"
            ]
          },
          "metadata": {
            "tags": []
          },
          "execution_count": 2
        }
      ]
    },
    {
      "cell_type": "code",
      "metadata": {
        "colab": {
          "base_uri": "https://localhost:8080/",
          "height": 35
        },
        "id": "6edndehqd1E1",
        "outputId": "f125b76c-bc5b-4190-c084-e542156428b1"
      },
      "source": [
        "dicionario['nome']"
      ],
      "execution_count": 3,
      "outputs": [
        {
          "output_type": "execute_result",
          "data": {
            "application/vnd.google.colaboratory.intrinsic+json": {
              "type": "string"
            },
            "text/plain": [
              "'Leandro'"
            ]
          },
          "metadata": {
            "tags": []
          },
          "execution_count": 3
        }
      ]
    },
    {
      "cell_type": "code",
      "metadata": {
        "colab": {
          "base_uri": "https://localhost:8080/"
        },
        "id": "OXGiin-OeAC-",
        "outputId": "6eb82384-0d5a-400f-912e-d49dd206cf77"
      },
      "source": [
        "dicionario.items()"
      ],
      "execution_count": 4,
      "outputs": [
        {
          "output_type": "execute_result",
          "data": {
            "text/plain": [
              "dict_items([('nome', 'Leandro'), ('idade', 37), ('comida_favorita', 'hamburgues')])"
            ]
          },
          "metadata": {
            "tags": []
          },
          "execution_count": 4
        }
      ]
    },
    {
      "cell_type": "code",
      "metadata": {
        "colab": {
          "base_uri": "https://localhost:8080/"
        },
        "id": "kGMrE4FLeENW",
        "outputId": "a1e741d7-7a0d-4083-f8eb-61cf144978fd"
      },
      "source": [
        "dicionario.keys()"
      ],
      "execution_count": 5,
      "outputs": [
        {
          "output_type": "execute_result",
          "data": {
            "text/plain": [
              "dict_keys(['nome', 'idade', 'comida_favorita'])"
            ]
          },
          "metadata": {
            "tags": []
          },
          "execution_count": 5
        }
      ]
    },
    {
      "cell_type": "code",
      "metadata": {
        "colab": {
          "base_uri": "https://localhost:8080/"
        },
        "id": "T5fG7F7teG9e",
        "outputId": "7b44337b-e54d-4a81-d796-2c735bf96d9f"
      },
      "source": [
        "dicionario.values()"
      ],
      "execution_count": 6,
      "outputs": [
        {
          "output_type": "execute_result",
          "data": {
            "text/plain": [
              "dict_values(['Leandro', 37, 'hamburgues'])"
            ]
          },
          "metadata": {
            "tags": []
          },
          "execution_count": 6
        }
      ]
    },
    {
      "cell_type": "code",
      "metadata": {
        "id": "BW8r7iwxeJAG"
      },
      "source": [
        "parametros = {'loc': 0,  'scale': 1, 'size': 10}"
      ],
      "execution_count": 7,
      "outputs": []
    },
    {
      "cell_type": "code",
      "metadata": {
        "id": "QZvmNWP_eYxu"
      },
      "source": [
        "import numpy as np"
      ],
      "execution_count": 8,
      "outputs": []
    },
    {
      "cell_type": "code",
      "metadata": {
        "colab": {
          "base_uri": "https://localhost:8080/"
        },
        "id": "sD42vGmkecfr",
        "outputId": "6b35e708-63d5-48ca-d8cc-1a697c423eeb"
      },
      "source": [
        "np.random.normal(**parametros) # ** usa dicionário"
      ],
      "execution_count": 9,
      "outputs": [
        {
          "output_type": "execute_result",
          "data": {
            "text/plain": [
              "array([-1.76898165,  1.29866258,  1.04939544, -0.84570168, -0.97575636,\n",
              "       -0.18495775,  0.22266369, -0.32487443,  2.24506968,  0.19014603])"
            ]
          },
          "metadata": {
            "tags": []
          },
          "execution_count": 9
        }
      ]
    },
    {
      "cell_type": "code",
      "metadata": {
        "colab": {
          "base_uri": "https://localhost:8080/"
        },
        "id": "6eTIMQlSemSz",
        "outputId": "db21453b-363b-496d-e77b-7cae5471518a"
      },
      "source": [
        "np.random.normal(*[0, 1, 10]) # * usa lista"
      ],
      "execution_count": 10,
      "outputs": [
        {
          "output_type": "execute_result",
          "data": {
            "text/plain": [
              "array([ 0.52115648,  0.5660592 , -0.45666516,  0.85779354, -0.70220127,\n",
              "        0.63660658, -1.10908921,  0.68384229,  1.64219268, -0.42102145])"
            ]
          },
          "metadata": {
            "tags": []
          },
          "execution_count": 10
        }
      ]
    },
    {
      "cell_type": "markdown",
      "metadata": {
        "id": "vPtdFX1mfXp6"
      },
      "source": [
        "---"
      ]
    },
    {
      "cell_type": "code",
      "metadata": {
        "id": "QVKFeSewe5Kz"
      },
      "source": [
        "# Pandas\r\n",
        "# Dataframe\r\n",
        "# Series\r\n",
        "\r\n",
        "import pandas as pd"
      ],
      "execution_count": 11,
      "outputs": []
    },
    {
      "cell_type": "code",
      "metadata": {
        "colab": {
          "base_uri": "https://localhost:8080/"
        },
        "id": "cXNDC0Uafy6R",
        "outputId": "b36c9704-2fa7-4b81-cddf-5dd48e2ecbc2"
      },
      "source": [
        "notas = np.random.uniform(low=0, high=10, size=30).round(1).reshape(10,3)\r\n",
        "notas"
      ],
      "execution_count": 12,
      "outputs": [
        {
          "output_type": "execute_result",
          "data": {
            "text/plain": [
              "array([[4.7, 4.4, 6.2],\n",
              "       [4.2, 6.3, 4.2],\n",
              "       [2.5, 5.6, 9. ],\n",
              "       [2.3, 3.2, 6.3],\n",
              "       [4.5, 9.4, 8.6],\n",
              "       [4. , 7. , 8.2],\n",
              "       [1.8, 5.2, 9.9],\n",
              "       [4.3, 2. , 3.3],\n",
              "       [0.8, 5.6, 4.3],\n",
              "       [3.1, 2.5, 3. ]])"
            ]
          },
          "metadata": {
            "tags": []
          },
          "execution_count": 12
        }
      ]
    },
    {
      "cell_type": "code",
      "metadata": {
        "id": "dcuLRABQgnb6"
      },
      "source": [
        "provas = ['P1', 'P2', 'P3']\r\n",
        "alunos = ['Alice', 'Bruno', 'Carla', 'David', 'Emily', 'Fábio', 'Gloria', 'Helio', 'Isabela', 'Lucas']"
      ],
      "execution_count": 13,
      "outputs": []
    },
    {
      "cell_type": "code",
      "metadata": {
        "id": "l5TJkRhNfR7v"
      },
      "source": [
        "notas_alunos = pd.DataFrame(data=notas, index=alunos , columns=provas)"
      ],
      "execution_count": 14,
      "outputs": []
    },
    {
      "cell_type": "code",
      "metadata": {
        "colab": {
          "base_uri": "https://localhost:8080/",
          "height": 204
        },
        "id": "JcOiW1KCjlmo",
        "outputId": "670fb12f-8c55-4101-9d42-1edfa1ca1c99"
      },
      "source": [
        "notas_alunos.head()"
      ],
      "execution_count": 15,
      "outputs": [
        {
          "output_type": "execute_result",
          "data": {
            "text/html": [
              "<div>\n",
              "<style scoped>\n",
              "    .dataframe tbody tr th:only-of-type {\n",
              "        vertical-align: middle;\n",
              "    }\n",
              "\n",
              "    .dataframe tbody tr th {\n",
              "        vertical-align: top;\n",
              "    }\n",
              "\n",
              "    .dataframe thead th {\n",
              "        text-align: right;\n",
              "    }\n",
              "</style>\n",
              "<table border=\"1\" class=\"dataframe\">\n",
              "  <thead>\n",
              "    <tr style=\"text-align: right;\">\n",
              "      <th></th>\n",
              "      <th>P1</th>\n",
              "      <th>P2</th>\n",
              "      <th>P3</th>\n",
              "    </tr>\n",
              "  </thead>\n",
              "  <tbody>\n",
              "    <tr>\n",
              "      <th>Alice</th>\n",
              "      <td>4.7</td>\n",
              "      <td>4.4</td>\n",
              "      <td>6.2</td>\n",
              "    </tr>\n",
              "    <tr>\n",
              "      <th>Bruno</th>\n",
              "      <td>4.2</td>\n",
              "      <td>6.3</td>\n",
              "      <td>4.2</td>\n",
              "    </tr>\n",
              "    <tr>\n",
              "      <th>Carla</th>\n",
              "      <td>2.5</td>\n",
              "      <td>5.6</td>\n",
              "      <td>9.0</td>\n",
              "    </tr>\n",
              "    <tr>\n",
              "      <th>David</th>\n",
              "      <td>2.3</td>\n",
              "      <td>3.2</td>\n",
              "      <td>6.3</td>\n",
              "    </tr>\n",
              "    <tr>\n",
              "      <th>Emily</th>\n",
              "      <td>4.5</td>\n",
              "      <td>9.4</td>\n",
              "      <td>8.6</td>\n",
              "    </tr>\n",
              "  </tbody>\n",
              "</table>\n",
              "</div>"
            ],
            "text/plain": [
              "        P1   P2   P3\n",
              "Alice  4.7  4.4  6.2\n",
              "Bruno  4.2  6.3  4.2\n",
              "Carla  2.5  5.6  9.0\n",
              "David  2.3  3.2  6.3\n",
              "Emily  4.5  9.4  8.6"
            ]
          },
          "metadata": {
            "tags": []
          },
          "execution_count": 15
        }
      ]
    },
    {
      "cell_type": "code",
      "metadata": {
        "colab": {
          "base_uri": "https://localhost:8080/"
        },
        "id": "_yem8qEghN4Y",
        "outputId": "5c82c779-6597-4a07-b055-446a8cbb98f4"
      },
      "source": [
        "notas_alunos.info()"
      ],
      "execution_count": 16,
      "outputs": [
        {
          "output_type": "stream",
          "text": [
            "<class 'pandas.core.frame.DataFrame'>\n",
            "Index: 10 entries, Alice to Lucas\n",
            "Data columns (total 3 columns):\n",
            " #   Column  Non-Null Count  Dtype  \n",
            "---  ------  --------------  -----  \n",
            " 0   P1      10 non-null     float64\n",
            " 1   P2      10 non-null     float64\n",
            " 2   P3      10 non-null     float64\n",
            "dtypes: float64(3)\n",
            "memory usage: 320.0+ bytes\n"
          ],
          "name": "stdout"
        }
      ]
    },
    {
      "cell_type": "code",
      "metadata": {
        "colab": {
          "base_uri": "https://localhost:8080/",
          "height": 297
        },
        "id": "B-vP_rEIhhx4",
        "outputId": "0d536343-bc90-4636-8c49-28bc422c1c2e"
      },
      "source": [
        "notas_alunos.describe()"
      ],
      "execution_count": 17,
      "outputs": [
        {
          "output_type": "execute_result",
          "data": {
            "text/html": [
              "<div>\n",
              "<style scoped>\n",
              "    .dataframe tbody tr th:only-of-type {\n",
              "        vertical-align: middle;\n",
              "    }\n",
              "\n",
              "    .dataframe tbody tr th {\n",
              "        vertical-align: top;\n",
              "    }\n",
              "\n",
              "    .dataframe thead th {\n",
              "        text-align: right;\n",
              "    }\n",
              "</style>\n",
              "<table border=\"1\" class=\"dataframe\">\n",
              "  <thead>\n",
              "    <tr style=\"text-align: right;\">\n",
              "      <th></th>\n",
              "      <th>P1</th>\n",
              "      <th>P2</th>\n",
              "      <th>P3</th>\n",
              "    </tr>\n",
              "  </thead>\n",
              "  <tbody>\n",
              "    <tr>\n",
              "      <th>count</th>\n",
              "      <td>10.000000</td>\n",
              "      <td>10.00000</td>\n",
              "      <td>10.000000</td>\n",
              "    </tr>\n",
              "    <tr>\n",
              "      <th>mean</th>\n",
              "      <td>3.220000</td>\n",
              "      <td>5.12000</td>\n",
              "      <td>6.300000</td>\n",
              "    </tr>\n",
              "    <tr>\n",
              "      <th>std</th>\n",
              "      <td>1.325644</td>\n",
              "      <td>2.22401</td>\n",
              "      <td>2.526746</td>\n",
              "    </tr>\n",
              "    <tr>\n",
              "      <th>min</th>\n",
              "      <td>0.800000</td>\n",
              "      <td>2.00000</td>\n",
              "      <td>3.000000</td>\n",
              "    </tr>\n",
              "    <tr>\n",
              "      <th>25%</th>\n",
              "      <td>2.350000</td>\n",
              "      <td>3.50000</td>\n",
              "      <td>4.225000</td>\n",
              "    </tr>\n",
              "    <tr>\n",
              "      <th>50%</th>\n",
              "      <td>3.550000</td>\n",
              "      <td>5.40000</td>\n",
              "      <td>6.250000</td>\n",
              "    </tr>\n",
              "    <tr>\n",
              "      <th>75%</th>\n",
              "      <td>4.275000</td>\n",
              "      <td>6.12500</td>\n",
              "      <td>8.500000</td>\n",
              "    </tr>\n",
              "    <tr>\n",
              "      <th>max</th>\n",
              "      <td>4.700000</td>\n",
              "      <td>9.40000</td>\n",
              "      <td>9.900000</td>\n",
              "    </tr>\n",
              "  </tbody>\n",
              "</table>\n",
              "</div>"
            ],
            "text/plain": [
              "              P1        P2         P3\n",
              "count  10.000000  10.00000  10.000000\n",
              "mean    3.220000   5.12000   6.300000\n",
              "std     1.325644   2.22401   2.526746\n",
              "min     0.800000   2.00000   3.000000\n",
              "25%     2.350000   3.50000   4.225000\n",
              "50%     3.550000   5.40000   6.250000\n",
              "75%     4.275000   6.12500   8.500000\n",
              "max     4.700000   9.40000   9.900000"
            ]
          },
          "metadata": {
            "tags": []
          },
          "execution_count": 17
        }
      ]
    },
    {
      "cell_type": "code",
      "metadata": {
        "colab": {
          "base_uri": "https://localhost:8080/",
          "height": 142
        },
        "id": "NfrIKZQIhhvm",
        "outputId": "1dcdaff7-5248-4302-b5d3-fb37385d7722"
      },
      "source": [
        "notas_alunos.transpose()"
      ],
      "execution_count": 18,
      "outputs": [
        {
          "output_type": "execute_result",
          "data": {
            "text/html": [
              "<div>\n",
              "<style scoped>\n",
              "    .dataframe tbody tr th:only-of-type {\n",
              "        vertical-align: middle;\n",
              "    }\n",
              "\n",
              "    .dataframe tbody tr th {\n",
              "        vertical-align: top;\n",
              "    }\n",
              "\n",
              "    .dataframe thead th {\n",
              "        text-align: right;\n",
              "    }\n",
              "</style>\n",
              "<table border=\"1\" class=\"dataframe\">\n",
              "  <thead>\n",
              "    <tr style=\"text-align: right;\">\n",
              "      <th></th>\n",
              "      <th>Alice</th>\n",
              "      <th>Bruno</th>\n",
              "      <th>Carla</th>\n",
              "      <th>David</th>\n",
              "      <th>Emily</th>\n",
              "      <th>Fábio</th>\n",
              "      <th>Gloria</th>\n",
              "      <th>Helio</th>\n",
              "      <th>Isabela</th>\n",
              "      <th>Lucas</th>\n",
              "    </tr>\n",
              "  </thead>\n",
              "  <tbody>\n",
              "    <tr>\n",
              "      <th>P1</th>\n",
              "      <td>4.7</td>\n",
              "      <td>4.2</td>\n",
              "      <td>2.5</td>\n",
              "      <td>2.3</td>\n",
              "      <td>4.5</td>\n",
              "      <td>4.0</td>\n",
              "      <td>1.8</td>\n",
              "      <td>4.3</td>\n",
              "      <td>0.8</td>\n",
              "      <td>3.1</td>\n",
              "    </tr>\n",
              "    <tr>\n",
              "      <th>P2</th>\n",
              "      <td>4.4</td>\n",
              "      <td>6.3</td>\n",
              "      <td>5.6</td>\n",
              "      <td>3.2</td>\n",
              "      <td>9.4</td>\n",
              "      <td>7.0</td>\n",
              "      <td>5.2</td>\n",
              "      <td>2.0</td>\n",
              "      <td>5.6</td>\n",
              "      <td>2.5</td>\n",
              "    </tr>\n",
              "    <tr>\n",
              "      <th>P3</th>\n",
              "      <td>6.2</td>\n",
              "      <td>4.2</td>\n",
              "      <td>9.0</td>\n",
              "      <td>6.3</td>\n",
              "      <td>8.6</td>\n",
              "      <td>8.2</td>\n",
              "      <td>9.9</td>\n",
              "      <td>3.3</td>\n",
              "      <td>4.3</td>\n",
              "      <td>3.0</td>\n",
              "    </tr>\n",
              "  </tbody>\n",
              "</table>\n",
              "</div>"
            ],
            "text/plain": [
              "    Alice  Bruno  Carla  David  Emily  Fábio  Gloria  Helio  Isabela  Lucas\n",
              "P1    4.7    4.2    2.5    2.3    4.5    4.0     1.8    4.3      0.8    3.1\n",
              "P2    4.4    6.3    5.6    3.2    9.4    7.0     5.2    2.0      5.6    2.5\n",
              "P3    6.2    4.2    9.0    6.3    8.6    8.2     9.9    3.3      4.3    3.0"
            ]
          },
          "metadata": {
            "tags": []
          },
          "execution_count": 18
        }
      ]
    },
    {
      "cell_type": "code",
      "metadata": {
        "colab": {
          "base_uri": "https://localhost:8080/",
          "height": 297
        },
        "id": "Tc3QEVYihhtK",
        "outputId": "57373b7a-19d0-46cf-d55d-c57abd0de9a8"
      },
      "source": [
        "notas_alunos.transpose().describe()"
      ],
      "execution_count": 19,
      "outputs": [
        {
          "output_type": "execute_result",
          "data": {
            "text/html": [
              "<div>\n",
              "<style scoped>\n",
              "    .dataframe tbody tr th:only-of-type {\n",
              "        vertical-align: middle;\n",
              "    }\n",
              "\n",
              "    .dataframe tbody tr th {\n",
              "        vertical-align: top;\n",
              "    }\n",
              "\n",
              "    .dataframe thead th {\n",
              "        text-align: right;\n",
              "    }\n",
              "</style>\n",
              "<table border=\"1\" class=\"dataframe\">\n",
              "  <thead>\n",
              "    <tr style=\"text-align: right;\">\n",
              "      <th></th>\n",
              "      <th>Alice</th>\n",
              "      <th>Bruno</th>\n",
              "      <th>Carla</th>\n",
              "      <th>David</th>\n",
              "      <th>Emily</th>\n",
              "      <th>Fábio</th>\n",
              "      <th>Gloria</th>\n",
              "      <th>Helio</th>\n",
              "      <th>Isabela</th>\n",
              "      <th>Lucas</th>\n",
              "    </tr>\n",
              "  </thead>\n",
              "  <tbody>\n",
              "    <tr>\n",
              "      <th>count</th>\n",
              "      <td>3.000000</td>\n",
              "      <td>3.000000</td>\n",
              "      <td>3.000000</td>\n",
              "      <td>3.000000</td>\n",
              "      <td>3.000000</td>\n",
              "      <td>3.000000</td>\n",
              "      <td>3.000000</td>\n",
              "      <td>3.000000</td>\n",
              "      <td>3.000000</td>\n",
              "      <td>3.000000</td>\n",
              "    </tr>\n",
              "    <tr>\n",
              "      <th>mean</th>\n",
              "      <td>5.100000</td>\n",
              "      <td>4.900000</td>\n",
              "      <td>5.700000</td>\n",
              "      <td>3.933333</td>\n",
              "      <td>7.500000</td>\n",
              "      <td>6.400000</td>\n",
              "      <td>5.633333</td>\n",
              "      <td>3.200000</td>\n",
              "      <td>3.566667</td>\n",
              "      <td>2.866667</td>\n",
              "    </tr>\n",
              "    <tr>\n",
              "      <th>std</th>\n",
              "      <td>0.964365</td>\n",
              "      <td>1.212436</td>\n",
              "      <td>3.251154</td>\n",
              "      <td>2.098412</td>\n",
              "      <td>2.628688</td>\n",
              "      <td>2.163331</td>\n",
              "      <td>4.067350</td>\n",
              "      <td>1.153256</td>\n",
              "      <td>2.482606</td>\n",
              "      <td>0.321455</td>\n",
              "    </tr>\n",
              "    <tr>\n",
              "      <th>min</th>\n",
              "      <td>4.400000</td>\n",
              "      <td>4.200000</td>\n",
              "      <td>2.500000</td>\n",
              "      <td>2.300000</td>\n",
              "      <td>4.500000</td>\n",
              "      <td>4.000000</td>\n",
              "      <td>1.800000</td>\n",
              "      <td>2.000000</td>\n",
              "      <td>0.800000</td>\n",
              "      <td>2.500000</td>\n",
              "    </tr>\n",
              "    <tr>\n",
              "      <th>25%</th>\n",
              "      <td>4.550000</td>\n",
              "      <td>4.200000</td>\n",
              "      <td>4.050000</td>\n",
              "      <td>2.750000</td>\n",
              "      <td>6.550000</td>\n",
              "      <td>5.500000</td>\n",
              "      <td>3.500000</td>\n",
              "      <td>2.650000</td>\n",
              "      <td>2.550000</td>\n",
              "      <td>2.750000</td>\n",
              "    </tr>\n",
              "    <tr>\n",
              "      <th>50%</th>\n",
              "      <td>4.700000</td>\n",
              "      <td>4.200000</td>\n",
              "      <td>5.600000</td>\n",
              "      <td>3.200000</td>\n",
              "      <td>8.600000</td>\n",
              "      <td>7.000000</td>\n",
              "      <td>5.200000</td>\n",
              "      <td>3.300000</td>\n",
              "      <td>4.300000</td>\n",
              "      <td>3.000000</td>\n",
              "    </tr>\n",
              "    <tr>\n",
              "      <th>75%</th>\n",
              "      <td>5.450000</td>\n",
              "      <td>5.250000</td>\n",
              "      <td>7.300000</td>\n",
              "      <td>4.750000</td>\n",
              "      <td>9.000000</td>\n",
              "      <td>7.600000</td>\n",
              "      <td>7.550000</td>\n",
              "      <td>3.800000</td>\n",
              "      <td>4.950000</td>\n",
              "      <td>3.050000</td>\n",
              "    </tr>\n",
              "    <tr>\n",
              "      <th>max</th>\n",
              "      <td>6.200000</td>\n",
              "      <td>6.300000</td>\n",
              "      <td>9.000000</td>\n",
              "      <td>6.300000</td>\n",
              "      <td>9.400000</td>\n",
              "      <td>8.200000</td>\n",
              "      <td>9.900000</td>\n",
              "      <td>4.300000</td>\n",
              "      <td>5.600000</td>\n",
              "      <td>3.100000</td>\n",
              "    </tr>\n",
              "  </tbody>\n",
              "</table>\n",
              "</div>"
            ],
            "text/plain": [
              "          Alice     Bruno     Carla  ...     Helio   Isabela     Lucas\n",
              "count  3.000000  3.000000  3.000000  ...  3.000000  3.000000  3.000000\n",
              "mean   5.100000  4.900000  5.700000  ...  3.200000  3.566667  2.866667\n",
              "std    0.964365  1.212436  3.251154  ...  1.153256  2.482606  0.321455\n",
              "min    4.400000  4.200000  2.500000  ...  2.000000  0.800000  2.500000\n",
              "25%    4.550000  4.200000  4.050000  ...  2.650000  2.550000  2.750000\n",
              "50%    4.700000  4.200000  5.600000  ...  3.300000  4.300000  3.000000\n",
              "75%    5.450000  5.250000  7.300000  ...  3.800000  4.950000  3.050000\n",
              "max    6.200000  6.300000  9.000000  ...  4.300000  5.600000  3.100000\n",
              "\n",
              "[8 rows x 10 columns]"
            ]
          },
          "metadata": {
            "tags": []
          },
          "execution_count": 19
        }
      ]
    },
    {
      "cell_type": "code",
      "metadata": {
        "colab": {
          "base_uri": "https://localhost:8080/"
        },
        "id": "8X5HgMZ9hhq8",
        "outputId": "8b900719-b936-45ab-bbe5-c4d34dd39fe0"
      },
      "source": [
        "notas_alunos.shape"
      ],
      "execution_count": 20,
      "outputs": [
        {
          "output_type": "execute_result",
          "data": {
            "text/plain": [
              "(10, 3)"
            ]
          },
          "metadata": {
            "tags": []
          },
          "execution_count": 20
        }
      ]
    },
    {
      "cell_type": "code",
      "metadata": {
        "colab": {
          "base_uri": "https://localhost:8080/"
        },
        "id": "ydCTXIe3hhoH",
        "outputId": "9f1d7b44-b322-43ce-c9af-29fc6a026aa9"
      },
      "source": [
        "notas_alunos['P1'] # quando é uma coluna do dataframe o tipo é Series"
      ],
      "execution_count": 21,
      "outputs": [
        {
          "output_type": "execute_result",
          "data": {
            "text/plain": [
              "Alice      4.7\n",
              "Bruno      4.2\n",
              "Carla      2.5\n",
              "David      2.3\n",
              "Emily      4.5\n",
              "Fábio      4.0\n",
              "Gloria     1.8\n",
              "Helio      4.3\n",
              "Isabela    0.8\n",
              "Lucas      3.1\n",
              "Name: P1, dtype: float64"
            ]
          },
          "metadata": {
            "tags": []
          },
          "execution_count": 21
        }
      ]
    },
    {
      "cell_type": "code",
      "metadata": {
        "colab": {
          "base_uri": "https://localhost:8080/"
        },
        "id": "80D8RVGehhl5",
        "outputId": "cff9b343-b50a-4305-f6a7-aa4f6a1f4eaa"
      },
      "source": [
        "notas_alunos.mean(axis=0) # axis = 0 é colunas"
      ],
      "execution_count": 22,
      "outputs": [
        {
          "output_type": "execute_result",
          "data": {
            "text/plain": [
              "P1    3.22\n",
              "P2    5.12\n",
              "P3    6.30\n",
              "dtype: float64"
            ]
          },
          "metadata": {
            "tags": []
          },
          "execution_count": 22
        }
      ]
    },
    {
      "cell_type": "code",
      "metadata": {
        "colab": {
          "base_uri": "https://localhost:8080/"
        },
        "id": "avbEocb1hhjQ",
        "outputId": "80b66a2e-0fa6-4544-c4c4-1a771b870fba"
      },
      "source": [
        "notas_alunos.mean(axis=1) # axis = 1 é linhas"
      ],
      "execution_count": 23,
      "outputs": [
        {
          "output_type": "execute_result",
          "data": {
            "text/plain": [
              "Alice      5.100000\n",
              "Bruno      4.900000\n",
              "Carla      5.700000\n",
              "David      3.933333\n",
              "Emily      7.500000\n",
              "Fábio      6.400000\n",
              "Gloria     5.633333\n",
              "Helio      3.200000\n",
              "Isabela    3.566667\n",
              "Lucas      2.866667\n",
              "dtype: float64"
            ]
          },
          "metadata": {
            "tags": []
          },
          "execution_count": 23
        }
      ]
    },
    {
      "cell_type": "code",
      "metadata": {
        "colab": {
          "base_uri": "https://localhost:8080/",
          "height": 204
        },
        "id": "0CDtMExihhgz",
        "outputId": "79d0332d-21d4-41dc-88f1-24dbedab6493"
      },
      "source": [
        "# adiciona nova coluna ao dataframe\r\n",
        "# calcula a média de notas dos alunos\r\n",
        "notas_alunos['media_final'] = notas_alunos.mean(axis=1).round(1)\r\n",
        "notas_alunos.head()"
      ],
      "execution_count": 24,
      "outputs": [
        {
          "output_type": "execute_result",
          "data": {
            "text/html": [
              "<div>\n",
              "<style scoped>\n",
              "    .dataframe tbody tr th:only-of-type {\n",
              "        vertical-align: middle;\n",
              "    }\n",
              "\n",
              "    .dataframe tbody tr th {\n",
              "        vertical-align: top;\n",
              "    }\n",
              "\n",
              "    .dataframe thead th {\n",
              "        text-align: right;\n",
              "    }\n",
              "</style>\n",
              "<table border=\"1\" class=\"dataframe\">\n",
              "  <thead>\n",
              "    <tr style=\"text-align: right;\">\n",
              "      <th></th>\n",
              "      <th>P1</th>\n",
              "      <th>P2</th>\n",
              "      <th>P3</th>\n",
              "      <th>media_final</th>\n",
              "    </tr>\n",
              "  </thead>\n",
              "  <tbody>\n",
              "    <tr>\n",
              "      <th>Alice</th>\n",
              "      <td>4.7</td>\n",
              "      <td>4.4</td>\n",
              "      <td>6.2</td>\n",
              "      <td>5.1</td>\n",
              "    </tr>\n",
              "    <tr>\n",
              "      <th>Bruno</th>\n",
              "      <td>4.2</td>\n",
              "      <td>6.3</td>\n",
              "      <td>4.2</td>\n",
              "      <td>4.9</td>\n",
              "    </tr>\n",
              "    <tr>\n",
              "      <th>Carla</th>\n",
              "      <td>2.5</td>\n",
              "      <td>5.6</td>\n",
              "      <td>9.0</td>\n",
              "      <td>5.7</td>\n",
              "    </tr>\n",
              "    <tr>\n",
              "      <th>David</th>\n",
              "      <td>2.3</td>\n",
              "      <td>3.2</td>\n",
              "      <td>6.3</td>\n",
              "      <td>3.9</td>\n",
              "    </tr>\n",
              "    <tr>\n",
              "      <th>Emily</th>\n",
              "      <td>4.5</td>\n",
              "      <td>9.4</td>\n",
              "      <td>8.6</td>\n",
              "      <td>7.5</td>\n",
              "    </tr>\n",
              "  </tbody>\n",
              "</table>\n",
              "</div>"
            ],
            "text/plain": [
              "        P1   P2   P3  media_final\n",
              "Alice  4.7  4.4  6.2          5.1\n",
              "Bruno  4.2  6.3  4.2          4.9\n",
              "Carla  2.5  5.6  9.0          5.7\n",
              "David  2.3  3.2  6.3          3.9\n",
              "Emily  4.5  9.4  8.6          7.5"
            ]
          },
          "metadata": {
            "tags": []
          },
          "execution_count": 24
        }
      ]
    },
    {
      "cell_type": "code",
      "metadata": {
        "id": "UVMbtMMtlnKz"
      },
      "source": [
        "def aux(x):\r\n",
        "  if x >= 5:\r\n",
        "    return 'aprovado' \r\n",
        "  else:\r\n",
        "    return 'reprovado'\r\n",
        "\r\n",
        "notas_alunos['situacao'] = notas_alunos['media_final'].apply(aux)"
      ],
      "execution_count": 25,
      "outputs": []
    },
    {
      "cell_type": "code",
      "metadata": {
        "colab": {
          "base_uri": "https://localhost:8080/",
          "height": 204
        },
        "id": "P0atcohehhd9",
        "outputId": "7ade1f30-7781-454a-97d4-42c8556f822b"
      },
      "source": [
        "notas_alunos.head()"
      ],
      "execution_count": 26,
      "outputs": [
        {
          "output_type": "execute_result",
          "data": {
            "text/html": [
              "<div>\n",
              "<style scoped>\n",
              "    .dataframe tbody tr th:only-of-type {\n",
              "        vertical-align: middle;\n",
              "    }\n",
              "\n",
              "    .dataframe tbody tr th {\n",
              "        vertical-align: top;\n",
              "    }\n",
              "\n",
              "    .dataframe thead th {\n",
              "        text-align: right;\n",
              "    }\n",
              "</style>\n",
              "<table border=\"1\" class=\"dataframe\">\n",
              "  <thead>\n",
              "    <tr style=\"text-align: right;\">\n",
              "      <th></th>\n",
              "      <th>P1</th>\n",
              "      <th>P2</th>\n",
              "      <th>P3</th>\n",
              "      <th>media_final</th>\n",
              "      <th>situacao</th>\n",
              "    </tr>\n",
              "  </thead>\n",
              "  <tbody>\n",
              "    <tr>\n",
              "      <th>Alice</th>\n",
              "      <td>4.7</td>\n",
              "      <td>4.4</td>\n",
              "      <td>6.2</td>\n",
              "      <td>5.1</td>\n",
              "      <td>aprovado</td>\n",
              "    </tr>\n",
              "    <tr>\n",
              "      <th>Bruno</th>\n",
              "      <td>4.2</td>\n",
              "      <td>6.3</td>\n",
              "      <td>4.2</td>\n",
              "      <td>4.9</td>\n",
              "      <td>reprovado</td>\n",
              "    </tr>\n",
              "    <tr>\n",
              "      <th>Carla</th>\n",
              "      <td>2.5</td>\n",
              "      <td>5.6</td>\n",
              "      <td>9.0</td>\n",
              "      <td>5.7</td>\n",
              "      <td>aprovado</td>\n",
              "    </tr>\n",
              "    <tr>\n",
              "      <th>David</th>\n",
              "      <td>2.3</td>\n",
              "      <td>3.2</td>\n",
              "      <td>6.3</td>\n",
              "      <td>3.9</td>\n",
              "      <td>reprovado</td>\n",
              "    </tr>\n",
              "    <tr>\n",
              "      <th>Emily</th>\n",
              "      <td>4.5</td>\n",
              "      <td>9.4</td>\n",
              "      <td>8.6</td>\n",
              "      <td>7.5</td>\n",
              "      <td>aprovado</td>\n",
              "    </tr>\n",
              "  </tbody>\n",
              "</table>\n",
              "</div>"
            ],
            "text/plain": [
              "        P1   P2   P3  media_final   situacao\n",
              "Alice  4.7  4.4  6.2          5.1   aprovado\n",
              "Bruno  4.2  6.3  4.2          4.9  reprovado\n",
              "Carla  2.5  5.6  9.0          5.7   aprovado\n",
              "David  2.3  3.2  6.3          3.9  reprovado\n",
              "Emily  4.5  9.4  8.6          7.5   aprovado"
            ]
          },
          "metadata": {
            "tags": []
          },
          "execution_count": 26
        }
      ]
    },
    {
      "cell_type": "code",
      "metadata": {
        "colab": {
          "base_uri": "https://localhost:8080/"
        },
        "id": "5_0fPAp3hhae",
        "outputId": "10cb4bd4-3712-46d2-cc86-968fe72d7753"
      },
      "source": [
        "sexo = ['F', 'M'] * 5\r\n",
        "sexo"
      ],
      "execution_count": 27,
      "outputs": [
        {
          "output_type": "execute_result",
          "data": {
            "text/plain": [
              "['F', 'M', 'F', 'M', 'F', 'M', 'F', 'M', 'F', 'M']"
            ]
          },
          "metadata": {
            "tags": []
          },
          "execution_count": 27
        }
      ]
    },
    {
      "cell_type": "code",
      "metadata": {
        "colab": {
          "base_uri": "https://localhost:8080/",
          "height": 204
        },
        "id": "npU_9AXwhhUP",
        "outputId": "3722b83c-82aa-43e7-a89c-d41771710080"
      },
      "source": [
        "notas_alunos['sexo'] = sexo\r\n",
        "notas_alunos.head()"
      ],
      "execution_count": 28,
      "outputs": [
        {
          "output_type": "execute_result",
          "data": {
            "text/html": [
              "<div>\n",
              "<style scoped>\n",
              "    .dataframe tbody tr th:only-of-type {\n",
              "        vertical-align: middle;\n",
              "    }\n",
              "\n",
              "    .dataframe tbody tr th {\n",
              "        vertical-align: top;\n",
              "    }\n",
              "\n",
              "    .dataframe thead th {\n",
              "        text-align: right;\n",
              "    }\n",
              "</style>\n",
              "<table border=\"1\" class=\"dataframe\">\n",
              "  <thead>\n",
              "    <tr style=\"text-align: right;\">\n",
              "      <th></th>\n",
              "      <th>P1</th>\n",
              "      <th>P2</th>\n",
              "      <th>P3</th>\n",
              "      <th>media_final</th>\n",
              "      <th>situacao</th>\n",
              "      <th>sexo</th>\n",
              "    </tr>\n",
              "  </thead>\n",
              "  <tbody>\n",
              "    <tr>\n",
              "      <th>Alice</th>\n",
              "      <td>4.7</td>\n",
              "      <td>4.4</td>\n",
              "      <td>6.2</td>\n",
              "      <td>5.1</td>\n",
              "      <td>aprovado</td>\n",
              "      <td>F</td>\n",
              "    </tr>\n",
              "    <tr>\n",
              "      <th>Bruno</th>\n",
              "      <td>4.2</td>\n",
              "      <td>6.3</td>\n",
              "      <td>4.2</td>\n",
              "      <td>4.9</td>\n",
              "      <td>reprovado</td>\n",
              "      <td>M</td>\n",
              "    </tr>\n",
              "    <tr>\n",
              "      <th>Carla</th>\n",
              "      <td>2.5</td>\n",
              "      <td>5.6</td>\n",
              "      <td>9.0</td>\n",
              "      <td>5.7</td>\n",
              "      <td>aprovado</td>\n",
              "      <td>F</td>\n",
              "    </tr>\n",
              "    <tr>\n",
              "      <th>David</th>\n",
              "      <td>2.3</td>\n",
              "      <td>3.2</td>\n",
              "      <td>6.3</td>\n",
              "      <td>3.9</td>\n",
              "      <td>reprovado</td>\n",
              "      <td>M</td>\n",
              "    </tr>\n",
              "    <tr>\n",
              "      <th>Emily</th>\n",
              "      <td>4.5</td>\n",
              "      <td>9.4</td>\n",
              "      <td>8.6</td>\n",
              "      <td>7.5</td>\n",
              "      <td>aprovado</td>\n",
              "      <td>F</td>\n",
              "    </tr>\n",
              "  </tbody>\n",
              "</table>\n",
              "</div>"
            ],
            "text/plain": [
              "        P1   P2   P3  media_final   situacao sexo\n",
              "Alice  4.7  4.4  6.2          5.1   aprovado    F\n",
              "Bruno  4.2  6.3  4.2          4.9  reprovado    M\n",
              "Carla  2.5  5.6  9.0          5.7   aprovado    F\n",
              "David  2.3  3.2  6.3          3.9  reprovado    M\n",
              "Emily  4.5  9.4  8.6          7.5   aprovado    F"
            ]
          },
          "metadata": {
            "tags": []
          },
          "execution_count": 28
        }
      ]
    },
    {
      "cell_type": "code",
      "metadata": {
        "colab": {
          "base_uri": "https://localhost:8080/",
          "height": 359
        },
        "id": "_mWXw-VthhJO",
        "outputId": "20d5ba4a-d37b-4674-bf8d-2665a8c95dab"
      },
      "source": [
        "notas_alunos.sort_values(by='media_final', ascending=False)"
      ],
      "execution_count": 29,
      "outputs": [
        {
          "output_type": "execute_result",
          "data": {
            "text/html": [
              "<div>\n",
              "<style scoped>\n",
              "    .dataframe tbody tr th:only-of-type {\n",
              "        vertical-align: middle;\n",
              "    }\n",
              "\n",
              "    .dataframe tbody tr th {\n",
              "        vertical-align: top;\n",
              "    }\n",
              "\n",
              "    .dataframe thead th {\n",
              "        text-align: right;\n",
              "    }\n",
              "</style>\n",
              "<table border=\"1\" class=\"dataframe\">\n",
              "  <thead>\n",
              "    <tr style=\"text-align: right;\">\n",
              "      <th></th>\n",
              "      <th>P1</th>\n",
              "      <th>P2</th>\n",
              "      <th>P3</th>\n",
              "      <th>media_final</th>\n",
              "      <th>situacao</th>\n",
              "      <th>sexo</th>\n",
              "    </tr>\n",
              "  </thead>\n",
              "  <tbody>\n",
              "    <tr>\n",
              "      <th>Emily</th>\n",
              "      <td>4.5</td>\n",
              "      <td>9.4</td>\n",
              "      <td>8.6</td>\n",
              "      <td>7.5</td>\n",
              "      <td>aprovado</td>\n",
              "      <td>F</td>\n",
              "    </tr>\n",
              "    <tr>\n",
              "      <th>Fábio</th>\n",
              "      <td>4.0</td>\n",
              "      <td>7.0</td>\n",
              "      <td>8.2</td>\n",
              "      <td>6.4</td>\n",
              "      <td>aprovado</td>\n",
              "      <td>M</td>\n",
              "    </tr>\n",
              "    <tr>\n",
              "      <th>Carla</th>\n",
              "      <td>2.5</td>\n",
              "      <td>5.6</td>\n",
              "      <td>9.0</td>\n",
              "      <td>5.7</td>\n",
              "      <td>aprovado</td>\n",
              "      <td>F</td>\n",
              "    </tr>\n",
              "    <tr>\n",
              "      <th>Gloria</th>\n",
              "      <td>1.8</td>\n",
              "      <td>5.2</td>\n",
              "      <td>9.9</td>\n",
              "      <td>5.6</td>\n",
              "      <td>aprovado</td>\n",
              "      <td>F</td>\n",
              "    </tr>\n",
              "    <tr>\n",
              "      <th>Alice</th>\n",
              "      <td>4.7</td>\n",
              "      <td>4.4</td>\n",
              "      <td>6.2</td>\n",
              "      <td>5.1</td>\n",
              "      <td>aprovado</td>\n",
              "      <td>F</td>\n",
              "    </tr>\n",
              "    <tr>\n",
              "      <th>Bruno</th>\n",
              "      <td>4.2</td>\n",
              "      <td>6.3</td>\n",
              "      <td>4.2</td>\n",
              "      <td>4.9</td>\n",
              "      <td>reprovado</td>\n",
              "      <td>M</td>\n",
              "    </tr>\n",
              "    <tr>\n",
              "      <th>David</th>\n",
              "      <td>2.3</td>\n",
              "      <td>3.2</td>\n",
              "      <td>6.3</td>\n",
              "      <td>3.9</td>\n",
              "      <td>reprovado</td>\n",
              "      <td>M</td>\n",
              "    </tr>\n",
              "    <tr>\n",
              "      <th>Isabela</th>\n",
              "      <td>0.8</td>\n",
              "      <td>5.6</td>\n",
              "      <td>4.3</td>\n",
              "      <td>3.6</td>\n",
              "      <td>reprovado</td>\n",
              "      <td>F</td>\n",
              "    </tr>\n",
              "    <tr>\n",
              "      <th>Helio</th>\n",
              "      <td>4.3</td>\n",
              "      <td>2.0</td>\n",
              "      <td>3.3</td>\n",
              "      <td>3.2</td>\n",
              "      <td>reprovado</td>\n",
              "      <td>M</td>\n",
              "    </tr>\n",
              "    <tr>\n",
              "      <th>Lucas</th>\n",
              "      <td>3.1</td>\n",
              "      <td>2.5</td>\n",
              "      <td>3.0</td>\n",
              "      <td>2.9</td>\n",
              "      <td>reprovado</td>\n",
              "      <td>M</td>\n",
              "    </tr>\n",
              "  </tbody>\n",
              "</table>\n",
              "</div>"
            ],
            "text/plain": [
              "          P1   P2   P3  media_final   situacao sexo\n",
              "Emily    4.5  9.4  8.6          7.5   aprovado    F\n",
              "Fábio    4.0  7.0  8.2          6.4   aprovado    M\n",
              "Carla    2.5  5.6  9.0          5.7   aprovado    F\n",
              "Gloria   1.8  5.2  9.9          5.6   aprovado    F\n",
              "Alice    4.7  4.4  6.2          5.1   aprovado    F\n",
              "Bruno    4.2  6.3  4.2          4.9  reprovado    M\n",
              "David    2.3  3.2  6.3          3.9  reprovado    M\n",
              "Isabela  0.8  5.6  4.3          3.6  reprovado    F\n",
              "Helio    4.3  2.0  3.3          3.2  reprovado    M\n",
              "Lucas    3.1  2.5  3.0          2.9  reprovado    M"
            ]
          },
          "metadata": {
            "tags": []
          },
          "execution_count": 29
        }
      ]
    },
    {
      "cell_type": "code",
      "metadata": {
        "colab": {
          "base_uri": "https://localhost:8080/"
        },
        "id": "1r4AGUPMhg7S",
        "outputId": "23371766-b4ba-4ab4-b6bb-154e66d71b96"
      },
      "source": [
        "notas_alunos['situacao'] == 'aprovado'"
      ],
      "execution_count": 30,
      "outputs": [
        {
          "output_type": "execute_result",
          "data": {
            "text/plain": [
              "Alice       True\n",
              "Bruno      False\n",
              "Carla       True\n",
              "David      False\n",
              "Emily       True\n",
              "Fábio       True\n",
              "Gloria      True\n",
              "Helio      False\n",
              "Isabela    False\n",
              "Lucas      False\n",
              "Name: situacao, dtype: bool"
            ]
          },
          "metadata": {
            "tags": []
          },
          "execution_count": 30
        }
      ]
    },
    {
      "cell_type": "code",
      "metadata": {
        "colab": {
          "base_uri": "https://localhost:8080/",
          "height": 204
        },
        "id": "04YseiUong3e",
        "outputId": "1e224351-e4da-4902-f3bf-25c86c30a1d7"
      },
      "source": [
        "notas_alunos_aprovados = notas_alunos[notas_alunos['situacao'] == 'aprovado']\r\n",
        "notas_alunos_aprovados"
      ],
      "execution_count": 31,
      "outputs": [
        {
          "output_type": "execute_result",
          "data": {
            "text/html": [
              "<div>\n",
              "<style scoped>\n",
              "    .dataframe tbody tr th:only-of-type {\n",
              "        vertical-align: middle;\n",
              "    }\n",
              "\n",
              "    .dataframe tbody tr th {\n",
              "        vertical-align: top;\n",
              "    }\n",
              "\n",
              "    .dataframe thead th {\n",
              "        text-align: right;\n",
              "    }\n",
              "</style>\n",
              "<table border=\"1\" class=\"dataframe\">\n",
              "  <thead>\n",
              "    <tr style=\"text-align: right;\">\n",
              "      <th></th>\n",
              "      <th>P1</th>\n",
              "      <th>P2</th>\n",
              "      <th>P3</th>\n",
              "      <th>media_final</th>\n",
              "      <th>situacao</th>\n",
              "      <th>sexo</th>\n",
              "    </tr>\n",
              "  </thead>\n",
              "  <tbody>\n",
              "    <tr>\n",
              "      <th>Alice</th>\n",
              "      <td>4.7</td>\n",
              "      <td>4.4</td>\n",
              "      <td>6.2</td>\n",
              "      <td>5.1</td>\n",
              "      <td>aprovado</td>\n",
              "      <td>F</td>\n",
              "    </tr>\n",
              "    <tr>\n",
              "      <th>Carla</th>\n",
              "      <td>2.5</td>\n",
              "      <td>5.6</td>\n",
              "      <td>9.0</td>\n",
              "      <td>5.7</td>\n",
              "      <td>aprovado</td>\n",
              "      <td>F</td>\n",
              "    </tr>\n",
              "    <tr>\n",
              "      <th>Emily</th>\n",
              "      <td>4.5</td>\n",
              "      <td>9.4</td>\n",
              "      <td>8.6</td>\n",
              "      <td>7.5</td>\n",
              "      <td>aprovado</td>\n",
              "      <td>F</td>\n",
              "    </tr>\n",
              "    <tr>\n",
              "      <th>Fábio</th>\n",
              "      <td>4.0</td>\n",
              "      <td>7.0</td>\n",
              "      <td>8.2</td>\n",
              "      <td>6.4</td>\n",
              "      <td>aprovado</td>\n",
              "      <td>M</td>\n",
              "    </tr>\n",
              "    <tr>\n",
              "      <th>Gloria</th>\n",
              "      <td>1.8</td>\n",
              "      <td>5.2</td>\n",
              "      <td>9.9</td>\n",
              "      <td>5.6</td>\n",
              "      <td>aprovado</td>\n",
              "      <td>F</td>\n",
              "    </tr>\n",
              "  </tbody>\n",
              "</table>\n",
              "</div>"
            ],
            "text/plain": [
              "         P1   P2   P3  media_final  situacao sexo\n",
              "Alice   4.7  4.4  6.2          5.1  aprovado    F\n",
              "Carla   2.5  5.6  9.0          5.7  aprovado    F\n",
              "Emily   4.5  9.4  8.6          7.5  aprovado    F\n",
              "Fábio   4.0  7.0  8.2          6.4  aprovado    M\n",
              "Gloria  1.8  5.2  9.9          5.6  aprovado    F"
            ]
          },
          "metadata": {
            "tags": []
          },
          "execution_count": 31
        }
      ]
    },
    {
      "cell_type": "code",
      "metadata": {
        "colab": {
          "base_uri": "https://localhost:8080/"
        },
        "id": "ZnCkOrvSng08",
        "outputId": "af591d51-ea4d-48f8-c860-dfd57ec2ed08"
      },
      "source": [
        "notas_alunos_aprovados['media_final'].mean()"
      ],
      "execution_count": 32,
      "outputs": [
        {
          "output_type": "execute_result",
          "data": {
            "text/plain": [
              "6.0600000000000005"
            ]
          },
          "metadata": {
            "tags": []
          },
          "execution_count": 32
        }
      ]
    },
    {
      "cell_type": "code",
      "metadata": {
        "colab": {
          "base_uri": "https://localhost:8080/",
          "height": 204
        },
        "id": "RXD8mdl-ngyK",
        "outputId": "6abbf71d-1fb5-4782-e3b9-eec05ad5d20a"
      },
      "source": [
        "notas_alunos_reprovados = notas_alunos[notas_alunos['situacao'] == 'reprovado']\r\n",
        "notas_alunos_reprovados"
      ],
      "execution_count": 33,
      "outputs": [
        {
          "output_type": "execute_result",
          "data": {
            "text/html": [
              "<div>\n",
              "<style scoped>\n",
              "    .dataframe tbody tr th:only-of-type {\n",
              "        vertical-align: middle;\n",
              "    }\n",
              "\n",
              "    .dataframe tbody tr th {\n",
              "        vertical-align: top;\n",
              "    }\n",
              "\n",
              "    .dataframe thead th {\n",
              "        text-align: right;\n",
              "    }\n",
              "</style>\n",
              "<table border=\"1\" class=\"dataframe\">\n",
              "  <thead>\n",
              "    <tr style=\"text-align: right;\">\n",
              "      <th></th>\n",
              "      <th>P1</th>\n",
              "      <th>P2</th>\n",
              "      <th>P3</th>\n",
              "      <th>media_final</th>\n",
              "      <th>situacao</th>\n",
              "      <th>sexo</th>\n",
              "    </tr>\n",
              "  </thead>\n",
              "  <tbody>\n",
              "    <tr>\n",
              "      <th>Bruno</th>\n",
              "      <td>4.2</td>\n",
              "      <td>6.3</td>\n",
              "      <td>4.2</td>\n",
              "      <td>4.9</td>\n",
              "      <td>reprovado</td>\n",
              "      <td>M</td>\n",
              "    </tr>\n",
              "    <tr>\n",
              "      <th>David</th>\n",
              "      <td>2.3</td>\n",
              "      <td>3.2</td>\n",
              "      <td>6.3</td>\n",
              "      <td>3.9</td>\n",
              "      <td>reprovado</td>\n",
              "      <td>M</td>\n",
              "    </tr>\n",
              "    <tr>\n",
              "      <th>Helio</th>\n",
              "      <td>4.3</td>\n",
              "      <td>2.0</td>\n",
              "      <td>3.3</td>\n",
              "      <td>3.2</td>\n",
              "      <td>reprovado</td>\n",
              "      <td>M</td>\n",
              "    </tr>\n",
              "    <tr>\n",
              "      <th>Isabela</th>\n",
              "      <td>0.8</td>\n",
              "      <td>5.6</td>\n",
              "      <td>4.3</td>\n",
              "      <td>3.6</td>\n",
              "      <td>reprovado</td>\n",
              "      <td>F</td>\n",
              "    </tr>\n",
              "    <tr>\n",
              "      <th>Lucas</th>\n",
              "      <td>3.1</td>\n",
              "      <td>2.5</td>\n",
              "      <td>3.0</td>\n",
              "      <td>2.9</td>\n",
              "      <td>reprovado</td>\n",
              "      <td>M</td>\n",
              "    </tr>\n",
              "  </tbody>\n",
              "</table>\n",
              "</div>"
            ],
            "text/plain": [
              "          P1   P2   P3  media_final   situacao sexo\n",
              "Bruno    4.2  6.3  4.2          4.9  reprovado    M\n",
              "David    2.3  3.2  6.3          3.9  reprovado    M\n",
              "Helio    4.3  2.0  3.3          3.2  reprovado    M\n",
              "Isabela  0.8  5.6  4.3          3.6  reprovado    F\n",
              "Lucas    3.1  2.5  3.0          2.9  reprovado    M"
            ]
          },
          "metadata": {
            "tags": []
          },
          "execution_count": 33
        }
      ]
    },
    {
      "cell_type": "code",
      "metadata": {
        "colab": {
          "base_uri": "https://localhost:8080/"
        },
        "id": "c9Svqe04ngvn",
        "outputId": "cb177fca-0954-4e1c-8b4f-b3c456756a4e"
      },
      "source": [
        "notas_alunos_reprovados['media_final'].mean()"
      ],
      "execution_count": 34,
      "outputs": [
        {
          "output_type": "execute_result",
          "data": {
            "text/plain": [
              "3.7"
            ]
          },
          "metadata": {
            "tags": []
          },
          "execution_count": 34
        }
      ]
    },
    {
      "cell_type": "code",
      "metadata": {
        "colab": {
          "base_uri": "https://localhost:8080/",
          "height": 142
        },
        "id": "eW-yOGjUngtT",
        "outputId": "928c6709-2624-4705-ddc5-d662406adab2"
      },
      "source": [
        "# groupby com um parametro\r\n",
        "notas_alunos.groupby(notas_alunos['situacao']).mean().round(1)"
      ],
      "execution_count": 35,
      "outputs": [
        {
          "output_type": "execute_result",
          "data": {
            "text/html": [
              "<div>\n",
              "<style scoped>\n",
              "    .dataframe tbody tr th:only-of-type {\n",
              "        vertical-align: middle;\n",
              "    }\n",
              "\n",
              "    .dataframe tbody tr th {\n",
              "        vertical-align: top;\n",
              "    }\n",
              "\n",
              "    .dataframe thead th {\n",
              "        text-align: right;\n",
              "    }\n",
              "</style>\n",
              "<table border=\"1\" class=\"dataframe\">\n",
              "  <thead>\n",
              "    <tr style=\"text-align: right;\">\n",
              "      <th></th>\n",
              "      <th>P1</th>\n",
              "      <th>P2</th>\n",
              "      <th>P3</th>\n",
              "      <th>media_final</th>\n",
              "    </tr>\n",
              "    <tr>\n",
              "      <th>situacao</th>\n",
              "      <th></th>\n",
              "      <th></th>\n",
              "      <th></th>\n",
              "      <th></th>\n",
              "    </tr>\n",
              "  </thead>\n",
              "  <tbody>\n",
              "    <tr>\n",
              "      <th>aprovado</th>\n",
              "      <td>3.5</td>\n",
              "      <td>6.3</td>\n",
              "      <td>8.4</td>\n",
              "      <td>6.1</td>\n",
              "    </tr>\n",
              "    <tr>\n",
              "      <th>reprovado</th>\n",
              "      <td>2.9</td>\n",
              "      <td>3.9</td>\n",
              "      <td>4.2</td>\n",
              "      <td>3.7</td>\n",
              "    </tr>\n",
              "  </tbody>\n",
              "</table>\n",
              "</div>"
            ],
            "text/plain": [
              "            P1   P2   P3  media_final\n",
              "situacao                             \n",
              "aprovado   3.5  6.3  8.4          6.1\n",
              "reprovado  2.9  3.9  4.2          3.7"
            ]
          },
          "metadata": {
            "tags": []
          },
          "execution_count": 35
        }
      ]
    },
    {
      "cell_type": "code",
      "metadata": {
        "colab": {
          "base_uri": "https://localhost:8080/",
          "height": 142
        },
        "id": "I_QJ7nyMngq5",
        "outputId": "dacb1652-19c6-488a-c568-2651335827cf"
      },
      "source": [
        "notas_alunos.groupby(notas_alunos['sexo']).mean().round(1)"
      ],
      "execution_count": 36,
      "outputs": [
        {
          "output_type": "execute_result",
          "data": {
            "text/html": [
              "<div>\n",
              "<style scoped>\n",
              "    .dataframe tbody tr th:only-of-type {\n",
              "        vertical-align: middle;\n",
              "    }\n",
              "\n",
              "    .dataframe tbody tr th {\n",
              "        vertical-align: top;\n",
              "    }\n",
              "\n",
              "    .dataframe thead th {\n",
              "        text-align: right;\n",
              "    }\n",
              "</style>\n",
              "<table border=\"1\" class=\"dataframe\">\n",
              "  <thead>\n",
              "    <tr style=\"text-align: right;\">\n",
              "      <th></th>\n",
              "      <th>P1</th>\n",
              "      <th>P2</th>\n",
              "      <th>P3</th>\n",
              "      <th>media_final</th>\n",
              "    </tr>\n",
              "    <tr>\n",
              "      <th>sexo</th>\n",
              "      <th></th>\n",
              "      <th></th>\n",
              "      <th></th>\n",
              "      <th></th>\n",
              "    </tr>\n",
              "  </thead>\n",
              "  <tbody>\n",
              "    <tr>\n",
              "      <th>F</th>\n",
              "      <td>2.9</td>\n",
              "      <td>6.0</td>\n",
              "      <td>7.6</td>\n",
              "      <td>5.5</td>\n",
              "    </tr>\n",
              "    <tr>\n",
              "      <th>M</th>\n",
              "      <td>3.6</td>\n",
              "      <td>4.2</td>\n",
              "      <td>5.0</td>\n",
              "      <td>4.3</td>\n",
              "    </tr>\n",
              "  </tbody>\n",
              "</table>\n",
              "</div>"
            ],
            "text/plain": [
              "       P1   P2   P3  media_final\n",
              "sexo                            \n",
              "F     2.9  6.0  7.6          5.5\n",
              "M     3.6  4.2  5.0          4.3"
            ]
          },
          "metadata": {
            "tags": []
          },
          "execution_count": 36
        }
      ]
    },
    {
      "cell_type": "code",
      "metadata": {
        "colab": {
          "base_uri": "https://localhost:8080/"
        },
        "id": "SHwiGlJfngod",
        "outputId": "c8209610-497f-4fb7-cd1b-32067a566c7a"
      },
      "source": [
        "notas_alunos['media_final'].groupby(notas_alunos['sexo']).mean().round(1)"
      ],
      "execution_count": 37,
      "outputs": [
        {
          "output_type": "execute_result",
          "data": {
            "text/plain": [
              "sexo\n",
              "F    5.5\n",
              "M    4.3\n",
              "Name: media_final, dtype: float64"
            ]
          },
          "metadata": {
            "tags": []
          },
          "execution_count": 37
        }
      ]
    },
    {
      "cell_type": "code",
      "metadata": {
        "colab": {
          "base_uri": "https://localhost:8080/",
          "height": 282
        },
        "id": "vfa3dMCNngl-",
        "outputId": "2ab79fc9-d2f8-41e9-a3de-8f5c5092caab"
      },
      "source": [
        "notas_alunos['media_final'].plot(kind='hist')"
      ],
      "execution_count": 38,
      "outputs": [
        {
          "output_type": "execute_result",
          "data": {
            "text/plain": [
              "<matplotlib.axes._subplots.AxesSubplot at 0x7f5672002ac8>"
            ]
          },
          "metadata": {
            "tags": []
          },
          "execution_count": 38
        },
        {
          "output_type": "display_data",
          "data": {
            "image/png": "[encoded data removed]",
            "text/plain": [
              "<Figure size 432x288 with 1 Axes>"
            ]
          },
          "metadata": {
            "tags": [],
            "needs_background": "light"
          }
        }
      ]
    },
    {
      "cell_type": "code",
      "metadata": {
        "colab": {
          "base_uri": "https://localhost:8080/"
        },
        "id": "Qi8o7NnHngjn",
        "outputId": "ccfb2e35-7c01-4a5b-b557-a70bd57ac6b7"
      },
      "source": [
        "notas_alunos['sexo'].value_counts()"
      ],
      "execution_count": 39,
      "outputs": [
        {
          "output_type": "execute_result",
          "data": {
            "text/plain": [
              "F    5\n",
              "M    5\n",
              "Name: sexo, dtype: int64"
            ]
          },
          "metadata": {
            "tags": []
          },
          "execution_count": 39
        }
      ]
    },
    {
      "cell_type": "code",
      "metadata": {
        "colab": {
          "base_uri": "https://localhost:8080/",
          "height": 265
        },
        "id": "RFpfbiZXngg_",
        "outputId": "22cd79a4-238e-48a7-d213-1533d78ab560"
      },
      "source": [
        "notas_alunos['sexo'].value_counts().plot(kind='pie')"
      ],
      "execution_count": 40,
      "outputs": [
        {
          "output_type": "execute_result",
          "data": {
            "text/plain": [
              "<matplotlib.axes._subplots.AxesSubplot at 0x7f5671881668>"
            ]
          },
          "metadata": {
            "tags": []
          },
          "execution_count": 40
        },
        {
          "output_type": "display_data",
          "data": {
            "image/png": "[encoded data removed]",
            "text/plain": [
              "<Figure size 432x288 with 1 Axes>"
            ]
          },
          "metadata": {
            "tags": []
          }
        }
      ]
    },
    {
      "cell_type": "code",
      "metadata": {
        "colab": {
          "base_uri": "https://localhost:8080/",
          "height": 282
        },
        "id": "uGiC2W6qngea",
        "outputId": "eb91dae6-4a38-45c5-b0f2-082d34d2a07a"
      },
      "source": [
        "notas_alunos['situacao'].value_counts().plot(kind='barh')"
      ],
      "execution_count": 41,
      "outputs": [
        {
          "output_type": "execute_result",
          "data": {
            "text/plain": [
              "<matplotlib.axes._subplots.AxesSubplot at 0x7f5670840c50>"
            ]
          },
          "metadata": {
            "tags": []
          },
          "execution_count": 41
        },
        {
          "output_type": "display_data",
          "data": {
            "image/png": "[encoded data removed]",
            "text/plain": [
              "<Figure size 432x288 with 1 Axes>"
            ]
          },
          "metadata": {
            "tags": [],
            "needs_background": "light"
          }
        }
      ]
    },
    {
      "cell_type": "code",
      "metadata": {
        "colab": {
          "base_uri": "https://localhost:8080/",
          "height": 204
        },
        "id": "eEKbYJBQngZI",
        "outputId": "5d4dceac-be42-4df5-9a3b-edc3033a7c24"
      },
      "source": [
        "notas_alunos.head()"
      ],
      "execution_count": 42,
      "outputs": [
        {
          "output_type": "execute_result",
          "data": {
            "text/html": [
              "<div>\n",
              "<style scoped>\n",
              "    .dataframe tbody tr th:only-of-type {\n",
              "        vertical-align: middle;\n",
              "    }\n",
              "\n",
              "    .dataframe tbody tr th {\n",
              "        vertical-align: top;\n",
              "    }\n",
              "\n",
              "    .dataframe thead th {\n",
              "        text-align: right;\n",
              "    }\n",
              "</style>\n",
              "<table border=\"1\" class=\"dataframe\">\n",
              "  <thead>\n",
              "    <tr style=\"text-align: right;\">\n",
              "      <th></th>\n",
              "      <th>P1</th>\n",
              "      <th>P2</th>\n",
              "      <th>P3</th>\n",
              "      <th>media_final</th>\n",
              "      <th>situacao</th>\n",
              "      <th>sexo</th>\n",
              "    </tr>\n",
              "  </thead>\n",
              "  <tbody>\n",
              "    <tr>\n",
              "      <th>Alice</th>\n",
              "      <td>4.7</td>\n",
              "      <td>4.4</td>\n",
              "      <td>6.2</td>\n",
              "      <td>5.1</td>\n",
              "      <td>aprovado</td>\n",
              "      <td>F</td>\n",
              "    </tr>\n",
              "    <tr>\n",
              "      <th>Bruno</th>\n",
              "      <td>4.2</td>\n",
              "      <td>6.3</td>\n",
              "      <td>4.2</td>\n",
              "      <td>4.9</td>\n",
              "      <td>reprovado</td>\n",
              "      <td>M</td>\n",
              "    </tr>\n",
              "    <tr>\n",
              "      <th>Carla</th>\n",
              "      <td>2.5</td>\n",
              "      <td>5.6</td>\n",
              "      <td>9.0</td>\n",
              "      <td>5.7</td>\n",
              "      <td>aprovado</td>\n",
              "      <td>F</td>\n",
              "    </tr>\n",
              "    <tr>\n",
              "      <th>David</th>\n",
              "      <td>2.3</td>\n",
              "      <td>3.2</td>\n",
              "      <td>6.3</td>\n",
              "      <td>3.9</td>\n",
              "      <td>reprovado</td>\n",
              "      <td>M</td>\n",
              "    </tr>\n",
              "    <tr>\n",
              "      <th>Emily</th>\n",
              "      <td>4.5</td>\n",
              "      <td>9.4</td>\n",
              "      <td>8.6</td>\n",
              "      <td>7.5</td>\n",
              "      <td>aprovado</td>\n",
              "      <td>F</td>\n",
              "    </tr>\n",
              "  </tbody>\n",
              "</table>\n",
              "</div>"
            ],
            "text/plain": [
              "        P1   P2   P3  media_final   situacao sexo\n",
              "Alice  4.7  4.4  6.2          5.1   aprovado    F\n",
              "Bruno  4.2  6.3  4.2          4.9  reprovado    M\n",
              "Carla  2.5  5.6  9.0          5.7   aprovado    F\n",
              "David  2.3  3.2  6.3          3.9  reprovado    M\n",
              "Emily  4.5  9.4  8.6          7.5   aprovado    F"
            ]
          },
          "metadata": {
            "tags": []
          },
          "execution_count": 42
        }
      ]
    },
    {
      "cell_type": "code",
      "metadata": {
        "colab": {
          "base_uri": "https://localhost:8080/"
        },
        "id": "r9ydP9umngbr",
        "outputId": "d77b06e6-3540-440e-f9d7-5c80ea9cacb3"
      },
      "source": [
        "notas_alunos.iloc[2,2] # index location"
      ],
      "execution_count": 43,
      "outputs": [
        {
          "output_type": "execute_result",
          "data": {
            "text/plain": [
              "9.0"
            ]
          },
          "metadata": {
            "tags": []
          },
          "execution_count": 43
        }
      ]
    },
    {
      "cell_type": "code",
      "metadata": {
        "colab": {
          "base_uri": "https://localhost:8080/"
        },
        "id": "qU1pw6zrS5Ac",
        "outputId": "42881184-b9b2-44be-e843-0dd0d85dc06d"
      },
      "source": [
        "notas_alunos.iloc[1,1:3] # aqui a posição 3 não é incluída"
      ],
      "execution_count": 44,
      "outputs": [
        {
          "output_type": "execute_result",
          "data": {
            "text/plain": [
              "P2    6.3\n",
              "P3    4.2\n",
              "Name: Bruno, dtype: object"
            ]
          },
          "metadata": {
            "tags": []
          },
          "execution_count": 44
        }
      ]
    },
    {
      "cell_type": "code",
      "metadata": {
        "colab": {
          "base_uri": "https://localhost:8080/"
        },
        "id": "GXQAyTMaTJZu",
        "outputId": "417734be-d896-4d91-b6d8-53246a72e3b0"
      },
      "source": [
        "notas_alunos[notas_alunos['P1'] > 3]['sexo']"
      ],
      "execution_count": 45,
      "outputs": [
        {
          "output_type": "execute_result",
          "data": {
            "text/plain": [
              "Alice    F\n",
              "Bruno    M\n",
              "Emily    F\n",
              "Fábio    M\n",
              "Helio    M\n",
              "Lucas    M\n",
              "Name: sexo, dtype: object"
            ]
          },
          "metadata": {
            "tags": []
          },
          "execution_count": 45
        }
      ]
    },
    {
      "cell_type": "code",
      "metadata": {
        "colab": {
          "base_uri": "https://localhost:8080/",
          "height": 282
        },
        "id": "47yu21A6Ufcm",
        "outputId": "0bb32258-d8a2-48d7-e9eb-cfcc195e3223"
      },
      "source": [
        "notas_alunos[notas_alunos['P1'] > 3]['sexo'].value_counts().plot(kind='barh')"
      ],
      "execution_count": 46,
      "outputs": [
        {
          "output_type": "execute_result",
          "data": {
            "text/plain": [
              "<matplotlib.axes._subplots.AxesSubplot at 0x7f5670821710>"
            ]
          },
          "metadata": {
            "tags": []
          },
          "execution_count": 46
        },
        {
          "output_type": "display_data",
          "data": {
            "image/png": "[encoded data removed]",
            "text/plain": [
              "<Figure size 432x288 with 1 Axes>"
            ]
          },
          "metadata": {
            "tags": [],
            "needs_background": "light"
          }
        }
      ]
    },
    {
      "cell_type": "code",
      "metadata": {
        "colab": {
          "base_uri": "https://localhost:8080/",
          "height": 265
        },
        "id": "4S-DLc8HUhwZ",
        "outputId": "2a825c9f-2ddc-4c2d-d55c-569b81c9d874"
      },
      "source": [
        "notas_alunos[notas_alunos['P1'] > 3]['sexo'].value_counts().plot(kind='pie')"
      ],
      "execution_count": 47,
      "outputs": [
        {
          "output_type": "execute_result",
          "data": {
            "text/plain": [
              "<matplotlib.axes._subplots.AxesSubplot at 0x7f5670732400>"
            ]
          },
          "metadata": {
            "tags": []
          },
          "execution_count": 47
        },
        {
          "output_type": "display_data",
          "data": {
            "image/png": "[encoded data removed]",
            "text/plain": [
              "<Figure size 432x288 with 1 Axes>"
            ]
          },
          "metadata": {
            "tags": []
          }
        }
      ]
    },
    {
      "cell_type": "code",
      "metadata": {
        "id": "D6Jc2s2bUht9",
        "colab": {
          "base_uri": "https://localhost:8080/"
        },
        "outputId": "55250dbc-1f16-4af8-923e-cf3f1a154fe8"
      },
      "source": [
        "notas_alunos.loc[notas_alunos['P1'] > 3, 'sexo']"
      ],
      "execution_count": 50,
      "outputs": [
        {
          "output_type": "execute_result",
          "data": {
            "text/plain": [
              "Alice    F\n",
              "Bruno    M\n",
              "Emily    F\n",
              "Fábio    M\n",
              "Helio    M\n",
              "Lucas    M\n",
              "Name: sexo, dtype: object"
            ]
          },
          "metadata": {
            "tags": []
          },
          "execution_count": 50
        }
      ]
    },
    {
      "cell_type": "code",
      "metadata": {
        "id": "XpZ_xzqeUhrl",
        "colab": {
          "base_uri": "https://localhost:8080/",
          "height": 235
        },
        "outputId": "83beccd4-adcd-4ae3-8d78-86038e41007f"
      },
      "source": [
        "notas_alunos.loc[notas_alunos['P1'] > 3, ['P2', 'P3']]"
      ],
      "execution_count": 51,
      "outputs": [
        {
          "output_type": "execute_result",
          "data": {
            "text/html": [
              "<div>\n",
              "<style scoped>\n",
              "    .dataframe tbody tr th:only-of-type {\n",
              "        vertical-align: middle;\n",
              "    }\n",
              "\n",
              "    .dataframe tbody tr th {\n",
              "        vertical-align: top;\n",
              "    }\n",
              "\n",
              "    .dataframe thead th {\n",
              "        text-align: right;\n",
              "    }\n",
              "</style>\n",
              "<table border=\"1\" class=\"dataframe\">\n",
              "  <thead>\n",
              "    <tr style=\"text-align: right;\">\n",
              "      <th></th>\n",
              "      <th>P2</th>\n",
              "      <th>P3</th>\n",
              "    </tr>\n",
              "  </thead>\n",
              "  <tbody>\n",
              "    <tr>\n",
              "      <th>Alice</th>\n",
              "      <td>4.4</td>\n",
              "      <td>6.2</td>\n",
              "    </tr>\n",
              "    <tr>\n",
              "      <th>Bruno</th>\n",
              "      <td>6.3</td>\n",
              "      <td>4.2</td>\n",
              "    </tr>\n",
              "    <tr>\n",
              "      <th>Emily</th>\n",
              "      <td>9.4</td>\n",
              "      <td>8.6</td>\n",
              "    </tr>\n",
              "    <tr>\n",
              "      <th>Fábio</th>\n",
              "      <td>7.0</td>\n",
              "      <td>8.2</td>\n",
              "    </tr>\n",
              "    <tr>\n",
              "      <th>Helio</th>\n",
              "      <td>2.0</td>\n",
              "      <td>3.3</td>\n",
              "    </tr>\n",
              "    <tr>\n",
              "      <th>Lucas</th>\n",
              "      <td>2.5</td>\n",
              "      <td>3.0</td>\n",
              "    </tr>\n",
              "  </tbody>\n",
              "</table>\n",
              "</div>"
            ],
            "text/plain": [
              "        P2   P3\n",
              "Alice  4.4  6.2\n",
              "Bruno  6.3  4.2\n",
              "Emily  9.4  8.6\n",
              "Fábio  7.0  8.2\n",
              "Helio  2.0  3.3\n",
              "Lucas  2.5  3.0"
            ]
          },
          "metadata": {
            "tags": []
          },
          "execution_count": 51
        }
      ]
    },
    {
      "cell_type": "code",
      "metadata": {
        "id": "JAeRtIJVUhpQ"
      },
      "source": [
        "notas_alunos.to_csv('notas.csv', )"
      ],
      "execution_count": null,
      "outputs": []
    },
    {
      "cell_type": "code",
      "metadata": {
        "id": "ueG07P5cUhQF"
      },
      "source": [
        ""
      ],
      "execution_count": null,
      "outputs": []
    }
  ]
}